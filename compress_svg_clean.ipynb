{
  "cells": [
    {
      "cell_type": "code",
      "execution_count": 1,
      "id": "EswnO5YHSR5X",
      "metadata": {
        "id": "EswnO5YHSR5X"
      },
      "outputs": [],
      "source": [
        "import os\n",
        "\n",
        "os.environ[\"DISABLE_TQDM\"] = \"1\""
      ]
    },
    {
      "cell_type": "code",
      "execution_count": 2,
      "id": "213bdddd",
      "metadata": {
        "id": "213bdddd"
      },
      "outputs": [
        {
          "name": "stderr",
          "output_type": "stream",
          "text": [
            "/opt/anaconda3/lib/python3.12/site-packages/bitsandbytes/cextension.py:34: UserWarning: The installed version of bitsandbytes was compiled without GPU support. 8-bit optimizers, 8-bit multiplication, and GPU quantization are unavailable.\n",
            "  warn(\"The installed version of bitsandbytes was compiled without GPU support. \"\n"
          ]
        },
        {
          "name": "stdout",
          "output_type": "stream",
          "text": [
            "'NoneType' object has no attribute 'cadam32bit_grad_fp32'\n"
          ]
        }
      ],
      "source": [
        "import numpy as np\n",
        "import uuid\n",
        "import pandas as pd\n",
        "import numpy as np\n",
        "from diffusers import DiffusionPipeline\n",
        "import torch\n",
        "from PIL import Image\n",
        "import cv2\n",
        "import xml.etree.ElementTree as ET"
      ]
    },
    {
      "cell_type": "code",
      "execution_count": 3,
      "id": "IfNsXNQmSZI8",
      "metadata": {
        "id": "IfNsXNQmSZI8"
      },
      "outputs": [],
      "source": [
        "os.environ[\"ACCELERATE_DISABLE_PROGRESS_BAR\"] = \"1\""
      ]
    },
    {
      "cell_type": "code",
      "execution_count": 4,
      "id": "KNuRmVvuSgq2",
      "metadata": {
        "id": "KNuRmVvuSgq2"
      },
      "outputs": [],
      "source": [
        "from diffusers.utils import logging\n",
        "logging.set_verbosity_error()"
      ]
    },
    {
      "cell_type": "markdown",
      "id": "23a6bfe8",
      "metadata": {
        "id": "23a6bfe8"
      },
      "source": [
        "SVG Validation:"
      ]
    },
    {
      "cell_type": "code",
      "execution_count": 5,
      "id": "b14b5b46",
      "metadata": {
        "id": "b14b5b46"
      },
      "outputs": [],
      "source": [
        "# SVG validation function\n",
        "MAX_SVG_SIZE = 10000\n",
        "ALLOWED_TAGS = {\n",
        "    \"svg\", \"g\", \"defs\", \"symbol\", \"use\", \"marker\", \"pattern\", \"linearGradient\", \"radialGradient\",\n",
        "    \"stop\", \"filter\", \"feBlend\", \"feColorMatrix\", \"feComposite\", \"feFlood\", \"feGaussianBlur\",\n",
        "    \"feMerge\", \"feMergeNode\", \"feOffset\", \"feTurbulence\", \"path\", \"rect\", \"circle\", \"ellipse\",\n",
        "    \"line\", \"polyline\", \"polygon\"\n",
        "}\n",
        "DISALLOWED_ATTRS = [\"data:\", \";base64\", \"http://\", \"https://\"]\n",
        "\n",
        "def is_valid_svg(svg_code):\n",
        "    try:\n",
        "        if len(svg_code.encode('utf-8')) > MAX_SVG_SIZE:\n",
        "            print('Exceeds max SVG string length. Current length:', len(svg_code.encode('utf-8')))\n",
        "            return False\n",
        "        root = ET.fromstring(svg_code)\n",
        "        if root.tag.split('}')[-1] != \"svg\":\n",
        "            print('SVG tag not specified.')\n",
        "            return False\n",
        "        for elem in root.iter():\n",
        "            tag = elem.tag.split('}')[-1]\n",
        "            if tag not in ALLOWED_TAGS:\n",
        "                print('Tag not allowed.')\n",
        "                return False\n",
        "            for val in elem.attrib.values():\n",
        "                if any(x in val.lower() for x in DISALLOWED_ATTRS):\n",
        "                    print('Attribute not allowed.')\n",
        "                    return False\n",
        "        #print('This is a valid SVG string.')\n",
        "        return True\n",
        "    except Exception:\n",
        "        return False"
      ]
    },
    {
      "cell_type": "markdown",
      "id": "e6ad779f",
      "metadata": {
        "id": "e6ad779f"
      },
      "source": [
        "Compress SVG:"
      ]
    },
    {
      "cell_type": "code",
      "execution_count": 6,
      "id": "f04d7695",
      "metadata": {
        "id": "f04d7695"
      },
      "outputs": [],
      "source": [
        "def compress_hex_color(hex_color):\n",
        "    \"\"\"Convert hex color to shortest possible representation\"\"\"\n",
        "    r, g, b = int(hex_color[1:3], 16), int(hex_color[3:5], 16), int(hex_color[5:7], 16)\n",
        "    if r % 17 == 0 and g % 17 == 0 and b % 17 == 0:\n",
        "        return f'#{r//17:x}{g//17:x}{b//17:x}'\n",
        "    return hex_color\n",
        "\n",
        "def extract_features_by_scale(img_np, num_colors=16):\n",
        "    \"\"\"\n",
        "    Extract image features hierarchically by scale\n",
        "\n",
        "    Args:\n",
        "        img_np (np.ndarray): Input image\n",
        "        num_colors (int): Number of colors to quantize\n",
        "    Returns:\n",
        "        list: Hierarchical features sorted by importance\n",
        "    \"\"\"\n",
        "    # Convert to RGB if needed\n",
        "    if len(img_np.shape) == 3 and img_np.shape[2] > 1:\n",
        "        img_rgb = img_np\n",
        "    else:\n",
        "        img_rgb = cv2.cvtColor(img_np, cv2.COLOR_GRAY2RGB)\n",
        "\n",
        "    # Convert to grayscale for processing\n",
        "    gray = cv2.cvtColor(img_rgb, cv2.COLOR_RGB2GRAY)\n",
        "    height, width = gray.shape\n",
        "\n",
        "    # Perform color quantization\n",
        "    pixels = img_rgb.reshape(-1, 3).astype(np.float32)\n",
        "    criteria = (cv2.TERM_CRITERIA_EPS + cv2.TERM_CRITERIA_MAX_ITER, 100, 0.2)\n",
        "    _, labels, centers = cv2.kmeans(pixels, num_colors, None, criteria, 10, cv2.KMEANS_RANDOM_CENTERS)\n",
        "    # Quantized image\n",
        "    palette = centers.astype(np.uint8)\n",
        "    quantized = palette[labels.flatten()].reshape(img_rgb.shape)\n",
        "\n",
        "    # Hierarchical feature extraction\n",
        "    hierarchical_features = []\n",
        "\n",
        "    # Sort colors by frequency\n",
        "    unique_labels, counts = np.unique(labels, return_counts=True)\n",
        "    sorted_indices = np.argsort(-counts)\n",
        "    sorted_colors = [palette[i] for i in sorted_indices]\n",
        "\n",
        "    # Center point for importance calculations\n",
        "    center_x, center_y = width/2, height/2\n",
        "    for color in sorted_colors:\n",
        "        # Create color mask\n",
        "        color_mask = cv2.inRange(quantized, color, color)\n",
        "\n",
        "        # Find contours\n",
        "        contours, _ = cv2.findContours(color_mask, cv2.RETR_EXTERNAL, cv2.CHAIN_APPROX_SIMPLE)\n",
        "\n",
        "        # Sort contours by area (largest first)\n",
        "        contours = sorted(contours, key=cv2.contourArea, reverse=True)\n",
        "\n",
        "        # Convert RGB to compressed hex\n",
        "        hex_color = compress_hex_color(f'#{color[0]:02x}{color[1]:02x}{color[2]:02x}')\n",
        "        color_features = []\n",
        "        for contour in contours:\n",
        "            # Skip tiny contours\n",
        "            area = cv2.contourArea(contour)\n",
        "            if area < 20:\n",
        "                continue\n",
        "\n",
        "            # Calculate contour center\n",
        "            m = cv2.moments(contour)\n",
        "            if m[\"m00\"] == 0:\n",
        "                continue\n",
        "\n",
        "            cx = int(m[\"m10\"] / m[\"m00\"])\n",
        "            cy = int(m[\"m01\"] / m[\"m00\"])\n",
        "\n",
        "            # Distance from image center (normalized)\n",
        "            dist_from_center = np.sqrt(((cx - center_x) / width)**2 + ((cy - center_y) / height)**2)\n",
        "\n",
        "            # Simplify contour\n",
        "            epsilon = 0.02 * cv2.arcLength(contour, True)\n",
        "            approx = cv2.approxPolyDP(contour, epsilon, True)\n",
        "            # Generate points string\n",
        "            points = \" \".join([f\"{pt[0][0]:.1f},{pt[0][1]:.1f}\" for pt in approx])\n",
        "\n",
        "            # Calculate importance (area, proximity to center, complexity)\n",
        "            importance = (\n",
        "                area *\n",
        "                (1 - dist_from_center) *\n",
        "                (1 / (len(approx) + 1))\n",
        "            )\n",
        "\n",
        "            color_features.append({\n",
        "                'points': points,\n",
        "                'color': hex_color,\n",
        "                'area': area,\n",
        "                'importance': importance,\n",
        "                'point_count': len(approx),\n",
        "                'original_contour': approx  # Store original contour for adaptive simplification\n",
        "            })\n",
        "            # Sort features by importance within this color\n",
        "        color_features.sort(key=lambda x: x['importance'], reverse=True)\n",
        "        hierarchical_features.extend(color_features)\n",
        "\n",
        "    # Final sorting by overall importance\n",
        "    hierarchical_features.sort(key=lambda x: x['importance'], reverse=True)\n",
        "\n",
        "    return hierarchical_features\n",
        "\n",
        "def simplify_polygon(points_str, simplification_level):\n",
        "    \"\"\"\n",
        "    Simplify a polygon by reducing coordinate precision or number of points\n",
        "\n",
        "    Args:\n",
        "        points_str (str): Space-separated \"x,y\" coordinates\n",
        "        simplification_level (int): Level of simplification (0-3)\n",
        "\n",
        "    Returns:\n",
        "    str: Simplified points string\n",
        "    \"\"\"\n",
        "    if simplification_level == 0:\n",
        "        return points_str\n",
        "\n",
        "    points = points_str.split()\n",
        "\n",
        "    # Level 1: Round to 1 decimal place\n",
        "    if simplification_level == 1:\n",
        "        return \" \".join([f\"{float(p.split(',')[0]):.1f},{float(p.split(',')[1]):.1f}\" for p in points])\n",
        "\n",
        "    # Level 2: Round to integer\n",
        "    if simplification_level == 2:\n",
        "        return \" \".join([f\"{float(p.split(',')[0]):.0f},{float(p.split(',')[1]):.0f}\" for p in points])\n",
        "\n",
        "    # Level 3: Reduce number of points (keep every other point, but ensure at least 3 points)\n",
        "    if simplification_level == 3:\n",
        "        if len(points) <= 4:\n",
        "            # If 4 or fewer points, just round to integer\n",
        "            return \" \".join([f\"{float(p.split(',')[0]):.0f},{float(p.split(',')[1]):.0f}\" for p in points])\n",
        "        else:\n",
        "            # Keep approximately half the points, but maintain at least 3\n",
        "            step = min(2, len(points) // 3)\n",
        "            reduced_points = [points[i] for i in range(0, len(points), step)]\n",
        "            # Ensure we keep at least 3 points and the last point\n",
        "            if len(reduced_points) < 3:\n",
        "                reduced_points = points[:3]\n",
        "            if points[-1] not in reduced_points:\n",
        "                reduced_points.append(points[-1])\n",
        "            return \" \".join([f\"{float(p.split(',')[0]):.0f},{float(p.split(',')[1]):.0f}\" for p in reduced_points])\n",
        "\n",
        "    return points_str\n",
        "def bitmap_to_svg_layered(image, max_size_bytes=10000, resize=True, target_size=(384, 384),\n",
        "                         adaptive_fill=True, num_colors=None):\n",
        "    \"\"\"\n",
        "    Convert bitmap to SVG using layered feature extraction with optimized space usage\n",
        "\n",
        "    Args:\n",
        "        image: Input image (PIL.Image)\n",
        "        max_size_bytes (int): Maximum SVG size\n",
        "        resize (bool): Whether to resize the image before processing\n",
        "        target_size (tuple): Target size for resizing (width, height)\n",
        "        adaptive_fill (bool): Whether to adaptively fill available space\n",
        "        num_colors (int): Number of colors to quantize, if None uses adaptive selection\n",
        "\n",
        "    Returns:\n",
        "        str: SVG representation\n",
        "        \"\"\"\n",
        "    # Adaptive color selection based on image complexity\n",
        "    if num_colors is None:\n",
        "        # Simple heuristic: more colors for complex images\n",
        "        if resize:\n",
        "            pixel_count = target_size[0] * target_size[1]\n",
        "        else:\n",
        "            pixel_count = image.size[0] * image.size[1]\n",
        "\n",
        "        if pixel_count < 65536:  # 256x256\n",
        "            num_colors = 8\n",
        "        elif pixel_count < 262144:  # 512x512\n",
        "            num_colors = 12\n",
        "        else:\n",
        "            num_colors = 16\n",
        "    # Resize the image if requested\n",
        "    if resize:\n",
        "        original_size = image.size\n",
        "        image = image.resize(target_size, Image.LANCZOS)\n",
        "    else:\n",
        "        original_size = image.size\n",
        "\n",
        "    # Convert to numpy array\n",
        "    img_np = np.array(image)\n",
        "\n",
        "    # Get image dimensions\n",
        "    height, width = img_np.shape[:2]\n",
        "\n",
        "    # Calculate average background color\n",
        "    if len(img_np.shape) == 3 and img_np.shape[2] == 3:\n",
        "        avg_bg_color = np.mean(img_np, axis=(0,1)).astype(int)\n",
        "        bg_hex_color = compress_hex_color(f'#{avg_bg_color[0]:02x}{avg_bg_color[1]:02x}{avg_bg_color[2]:02x}')\n",
        "    else:\n",
        "        bg_hex_color = '#fff'\n",
        "    # Start building SVG\n",
        "    # Use original dimensions in viewBox for proper scaling when displayed\n",
        "    orig_width, orig_height = original_size\n",
        "    svg_header = f'<svg xmlns=\"http://www.w3.org/2000/svg\" width=\"{orig_width}\" height=\"{orig_height}\" viewBox=\"0 0 {width} {height}\">\\n'\n",
        "    svg_bg = f'<rect width=\"{width}\" height=\"{height}\" fill=\"{bg_hex_color}\"/>\\n'\n",
        "    svg_base = svg_header + svg_bg\n",
        "    svg_footer = '</svg>'\n",
        "\n",
        "    # Calculate base size\n",
        "    base_size = len((svg_base + svg_footer).encode('utf-8'))\n",
        "    available_bytes = max_size_bytes - base_size\n",
        "\n",
        "    # Extract hierarchical features\n",
        "    features = extract_features_by_scale(img_np, num_colors=num_colors)\n",
        "    # If not using adaptive fill, just add features until we hit the limit\n",
        "    if not adaptive_fill:\n",
        "        svg = svg_base\n",
        "        for feature in features:\n",
        "            # Try adding the feature\n",
        "            feature_svg = f'<polygon points=\"{feature[\"points\"]}\" fill=\"{feature[\"color\"]}\" />\\n'\n",
        "\n",
        "            # Check if adding this feature exceeds size limit\n",
        "            if len((svg + feature_svg + svg_footer).encode('utf-8')) > max_size_bytes:\n",
        "                break\n",
        "\n",
        "            # Add the feature\n",
        "            svg += feature_svg\n",
        "\n",
        "        # Close SVG\n",
        "        svg += svg_footer\n",
        "        return svg\n",
        "    # For adaptive fill, use binary search to find optimal simplification level\n",
        "\n",
        "    # First attempt: calculate size of all features at different simplification levels\n",
        "    feature_sizes = []\n",
        "    for feature in features:\n",
        "        feature_sizes.append({\n",
        "            'original': len(f'<polygon points=\"{feature[\"points\"]}\" fill=\"{feature[\"color\"]}\" />\\n'.encode('utf-8')),\n",
        "            'level1': len(f'<polygon points=\"{simplify_polygon(feature[\"points\"], 1)}\" fill=\"{feature[\"color\"]}\" />\\n'.encode('utf-8')),\n",
        "            'level2': len(f'<polygon points=\"{simplify_polygon(feature[\"points\"], 2)}\" fill=\"{feature[\"color\"]}\" />\\n'.encode('utf-8')),\n",
        "            'level3': len(f'<polygon points=\"{simplify_polygon(feature[\"points\"], 3)}\" fill=\"{feature[\"color\"]}\" />\\n'.encode('utf-8'))\n",
        "        })\n",
        "    # Two-pass approach: first add most important features, then fill remaining space\n",
        "    svg = svg_base\n",
        "    bytes_used = base_size\n",
        "    added_features = set()\n",
        "\n",
        "    # Pass 1: Add most important features at original quality\n",
        "    for i, feature in enumerate(features):\n",
        "        feature_svg = f'<polygon points=\"{feature[\"points\"]}\" fill=\"{feature[\"color\"]}\" />\\n'\n",
        "        feature_size = feature_sizes[i]['original']\n",
        "\n",
        "        if bytes_used + feature_size <= max_size_bytes:\n",
        "            svg += feature_svg\n",
        "            bytes_used += feature_size\n",
        "            added_features.add(i)\n",
        "    # Pass 2: Try to add remaining features with progressive simplification\n",
        "    for level in range(1, 4):  # Try simplification levels 1-3\n",
        "        for i, feature in enumerate(features):\n",
        "            if i in added_features:\n",
        "                continue\n",
        "\n",
        "            feature_size = feature_sizes[i][f'level{level}']\n",
        "            if bytes_used + feature_size <= max_size_bytes:\n",
        "                feature_svg = f'<polygon points=\"{simplify_polygon(feature[\"points\"], level)}\" fill=\"{feature[\"color\"]}\" />\\n'\n",
        "                svg += feature_svg\n",
        "                bytes_used += feature_size\n",
        "                added_features.add(i)\n",
        "\n",
        "    # Finalize SVG\n",
        "    svg += svg_footer\n",
        "    # Double check we didn't exceed limit\n",
        "    final_size = len(svg.encode('utf-8'))\n",
        "    if final_size > max_size_bytes:\n",
        "        # If we somehow went over, return basic SVG\n",
        "        return f'<svg xmlns=\"http://www.w3.org/2000/svg\" viewBox=\"0 0 {width} {height}\"><rect width=\"{width}\" height=\"{height}\" fill=\"{bg_hex_color}\"/></svg>'\n",
        "\n",
        "    # Calculate space utilization\n",
        "    utilization = (final_size / max_size_bytes) * 100\n",
        "\n",
        "    # Return the SVG with efficient space utilization\n",
        "    return svg"
      ]
    },
    {
      "cell_type": "markdown",
      "id": "7b69dcc0",
      "metadata": {
        "id": "7b69dcc0"
      },
      "source": [
        "Generate and compress SVG:"
      ]
    },
    {
      "cell_type": "code",
      "execution_count": 7,
      "id": "d63a64f5",
      "metadata": {
        "id": "d63a64f5"
      },
      "outputs": [],
      "source": [
        "aug_train = pd.read_csv(\"/Users/jianglimeng/Desktop/projects/augmented_train.csv\")"
      ]
    },
    {
      "cell_type": "code",
      "execution_count": 8,
      "id": "7fa1a6c4",
      "metadata": {
        "colab": {
          "base_uri": "https://localhost:8080/",
          "height": 49,
          "referenced_widgets": [
            "4a34c851076c45fdaa870a298a43aa17",
            "3cf6b7f52746460cbc3dec548329d7c6",
            "39700080ba534f3a8615b753a043d578",
            "4862e987e7a84a3cb61409c9963ac87e",
            "91a970c0b5f64137827ad2127856cfff",
            "69f658e9e1b34748b0fbf3f363f5848a",
            "82bf67603b174c75a3921376106e184e",
            "7ed03d88e7d041b08ff79eebe31c6bf1",
            "66123492b7e74a83abba98051e1336d7",
            "969e264fccab4b4e8bdd78ca54acda85",
            "8121bb6ef5d2497f843ccb15bf3029a8"
          ]
        },
        "id": "7fa1a6c4",
        "outputId": "1bad3cdb-555e-4a89-ab84-4f9a46dd8f31"
      },
      "outputs": [
        {
          "data": {
            "application/vnd.jupyter.widget-view+json": {
              "model_id": "3f932259ef0443dabf3f6469665dca98",
              "version_major": 2,
              "version_minor": 0
            },
            "text/plain": [
              "Loading pipeline components...:   0%|          | 0/7 [00:00<?, ?it/s]"
            ]
          },
          "metadata": {},
          "output_type": "display_data"
        }
      ],
      "source": [
        "pipe = DiffusionPipeline.from_pretrained(\n",
        "    \"stabilityai/sdxl-turbo\",\n",
        "    torch_dtype=torch.float16,   # Leave this as float16\n",
        "    variant=\"fp16\",\n",
        "    disable_progress_bar=True\n",
        ")\n",
        "\n",
        "# Use GPU if available, otherwise fallback to CPU\n",
        "device = \"mps\" if torch.backends.mps.is_available() else \"cpu\"\n",
        "pipe.to(device)\n",
        "\n",
        "pipe.set_progress_bar_config(disable=True)"
      ]
    },
    {
      "cell_type": "code",
      "execution_count": 10,
      "id": "19851f84",
      "metadata": {
        "colab": {
          "base_uri": "https://localhost:8080/",
          "height": 490
        },
        "id": "19851f84",
        "outputId": "838ef9cf-4afa-43d1-8e56-dcc7c0a2b3a2"
      },
      "outputs": [
        {
          "name": "stdout",
          "output_type": "stream",
          "text": [
            "This is the 4200th compressed image.\n",
            "This is the 4400th compressed image.\n",
            "This is the 4600th compressed image.\n",
            "This is the 4800th compressed image.\n",
            "This is the 5000th compressed image.\n",
            "This is the 5200th compressed image.\n",
            "This is the 5400th compressed image.\n",
            "This is the 5600th compressed image.\n",
            "This is the 5800th compressed image.\n",
            "This is the 6000th compressed image.\n"
          ]
        }
      ],
      "source": [
        "for idx, row in aug_train.iloc[4026:6001].iterrows():\n",
        "    prompt = row[\"prompt\"]\n",
        "    styled_prompt = f\"{prompt}, minimal geometric illustration, flat design, simple color, no details, 2D vector style\"\n",
        "\n",
        "    image = pipe(prompt=styled_prompt, height=256, width=256).images[0]\n",
        "    svg_content = bitmap_to_svg_layered(image)\n",
        "    if is_valid_svg(svg_content):\n",
        "        with open(f\"/Users/jianglimeng/Desktop/projects/outputs/svg6000/{idx}.svg\", \"w\") as f:\n",
        "            f.write(svg_content)\n",
        "\n",
        "    if idx % 200 == 0:\n",
        "        print(f\"This is the {idx}th compressed image.\")"
      ]
    },
    {
      "cell_type": "markdown",
      "id": "vMgEqIPMMrCq",
      "metadata": {
        "id": "vMgEqIPMMrCq"
      },
      "source": [
        "Read the svg strings and save them as a csv file:"
      ]
    },
    {
      "cell_type": "code",
      "execution_count": 19,
      "id": "tDZdSp9jMvPA",
      "metadata": {
        "id": "tDZdSp9jMvPA"
      },
      "outputs": [],
      "source": [
        "svg_df = pd.DataFrame(data={'id': [], 'svg': []})"
      ]
    },
    {
      "cell_type": "code",
      "execution_count": 20,
      "id": "fLB-q4ANMxdJ",
      "metadata": {
        "id": "fLB-q4ANMxdJ"
      },
      "outputs": [],
      "source": [
        "directory_path = \"/Users/jianglimeng/Desktop/projects/outputs/svg10000\"\n",
        "for root, dirs, files in os.walk(directory_path):\n",
        "    for fname in sorted(files):\n",
        "        # if current file is not an svg, skip\n",
        "        if not fname.endswith('.svg'):\n",
        "            continue\n",
        "        full_file_path = os.path.join(root, fname)\n",
        "        with open(full_file_path, \"r\", encoding=\"utf-8\") as f:\n",
        "            svg_string = f.read()\n",
        "        svg_df.loc[len(svg_df)] = [fname[:-4], svg_string]"
      ]
    },
    {
      "cell_type": "code",
      "execution_count": 21,
      "id": "tCchnxl4Mxaq",
      "metadata": {
        "colab": {
          "base_uri": "https://localhost:8080/"
        },
        "id": "tCchnxl4Mxaq",
        "outputId": "690eb3b6-6461-45c0-8d67-fceed2914261"
      },
      "outputs": [
        {
          "name": "stdout",
          "output_type": "stream",
          "text": [
            "1999\n"
          ]
        }
      ],
      "source": [
        "print(len(svg_df))"
      ]
    },
    {
      "cell_type": "code",
      "execution_count": 22,
      "id": "IfJh7C4fMxYG",
      "metadata": {
        "id": "IfJh7C4fMxYG"
      },
      "outputs": [],
      "source": [
        "svg_df.to_csv(\"/Users/jianglimeng/Desktop/projects/outputs/svg10000.csv\")"
      ]
    },
    {
      "cell_type": "code",
      "execution_count": null,
      "id": "4JZHhmRcsiiH",
      "metadata": {
        "id": "4JZHhmRcsiiH"
      },
      "outputs": [],
      "source": []
    }
  ],
  "metadata": {
    "accelerator": "GPU",
    "colab": {
      "gpuType": "A100",
      "machine_shape": "hm",
      "provenance": []
    },
    "kernelspec": {
      "display_name": "base",
      "language": "python",
      "name": "python3"
    },
    "language_info": {
      "codemirror_mode": {
        "name": "ipython",
        "version": 3
      },
      "file_extension": ".py",
      "mimetype": "text/x-python",
      "name": "python",
      "nbconvert_exporter": "python",
      "pygments_lexer": "ipython3",
      "version": "3.12.7"
    },
    "widgets": {
      "application/vnd.jupyter.widget-state+json": {
        "39700080ba534f3a8615b753a043d578": {
          "model_module": "@jupyter-widgets/controls",
          "model_module_version": "1.5.0",
          "model_name": "FloatProgressModel",
          "state": {
            "_dom_classes": [],
            "_model_module": "@jupyter-widgets/controls",
            "_model_module_version": "1.5.0",
            "_model_name": "FloatProgressModel",
            "_view_count": null,
            "_view_module": "@jupyter-widgets/controls",
            "_view_module_version": "1.5.0",
            "_view_name": "ProgressView",
            "bar_style": "success",
            "description": "",
            "description_tooltip": null,
            "layout": "IPY_MODEL_7ed03d88e7d041b08ff79eebe31c6bf1",
            "max": 7,
            "min": 0,
            "orientation": "horizontal",
            "style": "IPY_MODEL_66123492b7e74a83abba98051e1336d7",
            "value": 7
          }
        },
        "3cf6b7f52746460cbc3dec548329d7c6": {
          "model_module": "@jupyter-widgets/controls",
          "model_module_version": "1.5.0",
          "model_name": "HTMLModel",
          "state": {
            "_dom_classes": [],
            "_model_module": "@jupyter-widgets/controls",
            "_model_module_version": "1.5.0",
            "_model_name": "HTMLModel",
            "_view_count": null,
            "_view_module": "@jupyter-widgets/controls",
            "_view_module_version": "1.5.0",
            "_view_name": "HTMLView",
            "description": "",
            "description_tooltip": null,
            "layout": "IPY_MODEL_69f658e9e1b34748b0fbf3f363f5848a",
            "placeholder": "​",
            "style": "IPY_MODEL_82bf67603b174c75a3921376106e184e",
            "value": "Loading pipeline components...: 100%"
          }
        },
        "4862e987e7a84a3cb61409c9963ac87e": {
          "model_module": "@jupyter-widgets/controls",
          "model_module_version": "1.5.0",
          "model_name": "HTMLModel",
          "state": {
            "_dom_classes": [],
            "_model_module": "@jupyter-widgets/controls",
            "_model_module_version": "1.5.0",
            "_model_name": "HTMLModel",
            "_view_count": null,
            "_view_module": "@jupyter-widgets/controls",
            "_view_module_version": "1.5.0",
            "_view_name": "HTMLView",
            "description": "",
            "description_tooltip": null,
            "layout": "IPY_MODEL_969e264fccab4b4e8bdd78ca54acda85",
            "placeholder": "​",
            "style": "IPY_MODEL_8121bb6ef5d2497f843ccb15bf3029a8",
            "value": " 7/7 [00:01&lt;00:00,  5.53it/s]"
          }
        },
        "4a34c851076c45fdaa870a298a43aa17": {
          "model_module": "@jupyter-widgets/controls",
          "model_module_version": "1.5.0",
          "model_name": "HBoxModel",
          "state": {
            "_dom_classes": [],
            "_model_module": "@jupyter-widgets/controls",
            "_model_module_version": "1.5.0",
            "_model_name": "HBoxModel",
            "_view_count": null,
            "_view_module": "@jupyter-widgets/controls",
            "_view_module_version": "1.5.0",
            "_view_name": "HBoxView",
            "box_style": "",
            "children": [
              "IPY_MODEL_3cf6b7f52746460cbc3dec548329d7c6",
              "IPY_MODEL_39700080ba534f3a8615b753a043d578",
              "IPY_MODEL_4862e987e7a84a3cb61409c9963ac87e"
            ],
            "layout": "IPY_MODEL_91a970c0b5f64137827ad2127856cfff"
          }
        },
        "66123492b7e74a83abba98051e1336d7": {
          "model_module": "@jupyter-widgets/controls",
          "model_module_version": "1.5.0",
          "model_name": "ProgressStyleModel",
          "state": {
            "_model_module": "@jupyter-widgets/controls",
            "_model_module_version": "1.5.0",
            "_model_name": "ProgressStyleModel",
            "_view_count": null,
            "_view_module": "@jupyter-widgets/base",
            "_view_module_version": "1.2.0",
            "_view_name": "StyleView",
            "bar_color": null,
            "description_width": ""
          }
        },
        "69f658e9e1b34748b0fbf3f363f5848a": {
          "model_module": "@jupyter-widgets/base",
          "model_module_version": "1.2.0",
          "model_name": "LayoutModel",
          "state": {
            "_model_module": "@jupyter-widgets/base",
            "_model_module_version": "1.2.0",
            "_model_name": "LayoutModel",
            "_view_count": null,
            "_view_module": "@jupyter-widgets/base",
            "_view_module_version": "1.2.0",
            "_view_name": "LayoutView",
            "align_content": null,
            "align_items": null,
            "align_self": null,
            "border": null,
            "bottom": null,
            "display": null,
            "flex": null,
            "flex_flow": null,
            "grid_area": null,
            "grid_auto_columns": null,
            "grid_auto_flow": null,
            "grid_auto_rows": null,
            "grid_column": null,
            "grid_gap": null,
            "grid_row": null,
            "grid_template_areas": null,
            "grid_template_columns": null,
            "grid_template_rows": null,
            "height": null,
            "justify_content": null,
            "justify_items": null,
            "left": null,
            "margin": null,
            "max_height": null,
            "max_width": null,
            "min_height": null,
            "min_width": null,
            "object_fit": null,
            "object_position": null,
            "order": null,
            "overflow": null,
            "overflow_x": null,
            "overflow_y": null,
            "padding": null,
            "right": null,
            "top": null,
            "visibility": null,
            "width": null
          }
        },
        "7ed03d88e7d041b08ff79eebe31c6bf1": {
          "model_module": "@jupyter-widgets/base",
          "model_module_version": "1.2.0",
          "model_name": "LayoutModel",
          "state": {
            "_model_module": "@jupyter-widgets/base",
            "_model_module_version": "1.2.0",
            "_model_name": "LayoutModel",
            "_view_count": null,
            "_view_module": "@jupyter-widgets/base",
            "_view_module_version": "1.2.0",
            "_view_name": "LayoutView",
            "align_content": null,
            "align_items": null,
            "align_self": null,
            "border": null,
            "bottom": null,
            "display": null,
            "flex": null,
            "flex_flow": null,
            "grid_area": null,
            "grid_auto_columns": null,
            "grid_auto_flow": null,
            "grid_auto_rows": null,
            "grid_column": null,
            "grid_gap": null,
            "grid_row": null,
            "grid_template_areas": null,
            "grid_template_columns": null,
            "grid_template_rows": null,
            "height": null,
            "justify_content": null,
            "justify_items": null,
            "left": null,
            "margin": null,
            "max_height": null,
            "max_width": null,
            "min_height": null,
            "min_width": null,
            "object_fit": null,
            "object_position": null,
            "order": null,
            "overflow": null,
            "overflow_x": null,
            "overflow_y": null,
            "padding": null,
            "right": null,
            "top": null,
            "visibility": null,
            "width": null
          }
        },
        "8121bb6ef5d2497f843ccb15bf3029a8": {
          "model_module": "@jupyter-widgets/controls",
          "model_module_version": "1.5.0",
          "model_name": "DescriptionStyleModel",
          "state": {
            "_model_module": "@jupyter-widgets/controls",
            "_model_module_version": "1.5.0",
            "_model_name": "DescriptionStyleModel",
            "_view_count": null,
            "_view_module": "@jupyter-widgets/base",
            "_view_module_version": "1.2.0",
            "_view_name": "StyleView",
            "description_width": ""
          }
        },
        "82bf67603b174c75a3921376106e184e": {
          "model_module": "@jupyter-widgets/controls",
          "model_module_version": "1.5.0",
          "model_name": "DescriptionStyleModel",
          "state": {
            "_model_module": "@jupyter-widgets/controls",
            "_model_module_version": "1.5.0",
            "_model_name": "DescriptionStyleModel",
            "_view_count": null,
            "_view_module": "@jupyter-widgets/base",
            "_view_module_version": "1.2.0",
            "_view_name": "StyleView",
            "description_width": ""
          }
        },
        "91a970c0b5f64137827ad2127856cfff": {
          "model_module": "@jupyter-widgets/base",
          "model_module_version": "1.2.0",
          "model_name": "LayoutModel",
          "state": {
            "_model_module": "@jupyter-widgets/base",
            "_model_module_version": "1.2.0",
            "_model_name": "LayoutModel",
            "_view_count": null,
            "_view_module": "@jupyter-widgets/base",
            "_view_module_version": "1.2.0",
            "_view_name": "LayoutView",
            "align_content": null,
            "align_items": null,
            "align_self": null,
            "border": null,
            "bottom": null,
            "display": null,
            "flex": null,
            "flex_flow": null,
            "grid_area": null,
            "grid_auto_columns": null,
            "grid_auto_flow": null,
            "grid_auto_rows": null,
            "grid_column": null,
            "grid_gap": null,
            "grid_row": null,
            "grid_template_areas": null,
            "grid_template_columns": null,
            "grid_template_rows": null,
            "height": null,
            "justify_content": null,
            "justify_items": null,
            "left": null,
            "margin": null,
            "max_height": null,
            "max_width": null,
            "min_height": null,
            "min_width": null,
            "object_fit": null,
            "object_position": null,
            "order": null,
            "overflow": null,
            "overflow_x": null,
            "overflow_y": null,
            "padding": null,
            "right": null,
            "top": null,
            "visibility": null,
            "width": null
          }
        },
        "969e264fccab4b4e8bdd78ca54acda85": {
          "model_module": "@jupyter-widgets/base",
          "model_module_version": "1.2.0",
          "model_name": "LayoutModel",
          "state": {
            "_model_module": "@jupyter-widgets/base",
            "_model_module_version": "1.2.0",
            "_model_name": "LayoutModel",
            "_view_count": null,
            "_view_module": "@jupyter-widgets/base",
            "_view_module_version": "1.2.0",
            "_view_name": "LayoutView",
            "align_content": null,
            "align_items": null,
            "align_self": null,
            "border": null,
            "bottom": null,
            "display": null,
            "flex": null,
            "flex_flow": null,
            "grid_area": null,
            "grid_auto_columns": null,
            "grid_auto_flow": null,
            "grid_auto_rows": null,
            "grid_column": null,
            "grid_gap": null,
            "grid_row": null,
            "grid_template_areas": null,
            "grid_template_columns": null,
            "grid_template_rows": null,
            "height": null,
            "justify_content": null,
            "justify_items": null,
            "left": null,
            "margin": null,
            "max_height": null,
            "max_width": null,
            "min_height": null,
            "min_width": null,
            "object_fit": null,
            "object_position": null,
            "order": null,
            "overflow": null,
            "overflow_x": null,
            "overflow_y": null,
            "padding": null,
            "right": null,
            "top": null,
            "visibility": null,
            "width": null
          }
        }
      }
    }
  },
  "nbformat": 4,
  "nbformat_minor": 5
}
