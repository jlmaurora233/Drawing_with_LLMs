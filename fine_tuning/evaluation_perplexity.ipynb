{
  "cells": [
    {
      "cell_type": "code",
      "execution_count": 2,
      "id": "Q6MW0StzpPN8",
      "metadata": {
        "id": "Q6MW0StzpPN8"
      },
      "outputs": [],
      "source": [
        "import os\n",
        "\n",
        "os.mkdir(\"/content/tokenizer_svg_extended\")\n",
        "os.mkdir(\"/content/codellama_svg_qlora\")"
      ]
    },
    {
      "cell_type": "code",
      "execution_count": 3,
      "id": "2afc557e",
      "metadata": {
        "colab": {
          "base_uri": "https://localhost:8080/"
        },
        "id": "2afc557e",
        "outputId": "093f0deb-355d-4967-fe86-3c1647627e95"
      },
      "outputs": [
        {
          "name": "stdout",
          "output_type": "stream",
          "text": [
            "Found existing installation: transformers 4.55.2\n",
            "Uninstalling transformers-4.55.2:\n",
            "  Successfully uninstalled transformers-4.55.2\n",
            "\u001b[33mWARNING: Skipping trl as it is not installed.\u001b[0m\u001b[33m\n",
            "\u001b[0mFound existing installation: peft 0.17.0\n",
            "Uninstalling peft-0.17.0:\n",
            "  Successfully uninstalled peft-0.17.0\n",
            "Found existing installation: accelerate 1.10.0\n",
            "Uninstalling accelerate-1.10.0:\n",
            "  Successfully uninstalled accelerate-1.10.0\n",
            "Collecting transformers==4.45.2\n",
            "  Downloading transformers-4.45.2-py3-none-any.whl.metadata (44 kB)\n",
            "\u001b[2K     \u001b[90m━━━━━━━━━━━━━━━━━━━━━━━━━━━━━━━━━━━━━━━━\u001b[0m \u001b[32m44.4/44.4 kB\u001b[0m \u001b[31m4.1 MB/s\u001b[0m eta \u001b[36m0:00:00\u001b[0m\n",
            "\u001b[?25hCollecting trl==0.9.4\n",
            "  Downloading trl-0.9.4-py3-none-any.whl.metadata (11 kB)\n",
            "Collecting peft==0.12.0\n",
            "  Downloading peft-0.12.0-py3-none-any.whl.metadata (13 kB)\n",
            "Collecting accelerate==0.34.2\n",
            "  Downloading accelerate-0.34.2-py3-none-any.whl.metadata (19 kB)\n",
            "Requirement already satisfied: datasets>=2.20.0 in /usr/local/lib/python3.12/dist-packages (4.0.0)\n",
            "Requirement already satisfied: safetensors in /usr/local/lib/python3.12/dist-packages (0.6.2)\n",
            "Requirement already satisfied: einops in /usr/local/lib/python3.12/dist-packages (0.8.1)\n",
            "Requirement already satisfied: lxml in /usr/local/lib/python3.12/dist-packages (5.4.0)\n",
            "Collecting lxml\n",
            "  Downloading lxml-6.0.1-cp312-cp312-manylinux_2_26_x86_64.manylinux_2_28_x86_64.whl.metadata (3.8 kB)\n",
            "Requirement already satisfied: defusedxml in /usr/local/lib/python3.12/dist-packages (0.7.1)\n",
            "Collecting cairosvg\n",
            "  Downloading cairosvg-2.8.2-py3-none-any.whl.metadata (2.7 kB)\n",
            "Requirement already satisfied: pillow in /usr/local/lib/python3.12/dist-packages (11.3.0)\n",
            "Requirement already satisfied: scikit-image in /usr/local/lib/python3.12/dist-packages (0.25.2)\n",
            "Requirement already satisfied: filelock in /usr/local/lib/python3.12/dist-packages (from transformers==4.45.2) (3.19.1)\n",
            "Requirement already satisfied: huggingface-hub<1.0,>=0.23.2 in /usr/local/lib/python3.12/dist-packages (from transformers==4.45.2) (0.34.4)\n",
            "Requirement already satisfied: numpy>=1.17 in /usr/local/lib/python3.12/dist-packages (from transformers==4.45.2) (2.0.2)\n",
            "Requirement already satisfied: packaging>=20.0 in /usr/local/lib/python3.12/dist-packages (from transformers==4.45.2) (25.0)\n",
            "Requirement already satisfied: pyyaml>=5.1 in /usr/local/lib/python3.12/dist-packages (from transformers==4.45.2) (6.0.2)\n",
            "Requirement already satisfied: regex!=2019.12.17 in /usr/local/lib/python3.12/dist-packages (from transformers==4.45.2) (2024.11.6)\n",
            "Requirement already satisfied: requests in /usr/local/lib/python3.12/dist-packages (from transformers==4.45.2) (2.32.4)\n",
            "Collecting tokenizers<0.21,>=0.20 (from transformers==4.45.2)\n",
            "  Downloading tokenizers-0.20.3-cp312-cp312-manylinux_2_17_x86_64.manylinux2014_x86_64.whl.metadata (6.7 kB)\n",
            "Requirement already satisfied: tqdm>=4.27 in /usr/local/lib/python3.12/dist-packages (from transformers==4.45.2) (4.67.1)\n",
            "Requirement already satisfied: torch>=1.4.0 in /usr/local/lib/python3.12/dist-packages (from trl==0.9.4) (2.8.0+cu126)\n",
            "Collecting tyro>=0.5.11 (from trl==0.9.4)\n",
            "  Downloading tyro-0.9.28-py3-none-any.whl.metadata (11 kB)\n",
            "Requirement already satisfied: psutil in /usr/local/lib/python3.12/dist-packages (from peft==0.12.0) (5.9.5)\n",
            "Requirement already satisfied: pyarrow>=15.0.0 in /usr/local/lib/python3.12/dist-packages (from datasets>=2.20.0) (18.1.0)\n",
            "Requirement already satisfied: dill<0.3.9,>=0.3.0 in /usr/local/lib/python3.12/dist-packages (from datasets>=2.20.0) (0.3.8)\n",
            "Requirement already satisfied: pandas in /usr/local/lib/python3.12/dist-packages (from datasets>=2.20.0) (2.2.2)\n",
            "Requirement already satisfied: xxhash in /usr/local/lib/python3.12/dist-packages (from datasets>=2.20.0) (3.5.0)\n",
            "Requirement already satisfied: multiprocess<0.70.17 in /usr/local/lib/python3.12/dist-packages (from datasets>=2.20.0) (0.70.16)\n",
            "Requirement already satisfied: fsspec<=2025.3.0,>=2023.1.0 in /usr/local/lib/python3.12/dist-packages (from fsspec[http]<=2025.3.0,>=2023.1.0->datasets>=2.20.0) (2025.3.0)\n",
            "Collecting cairocffi (from cairosvg)\n",
            "  Downloading cairocffi-1.7.1-py3-none-any.whl.metadata (3.3 kB)\n",
            "Collecting cssselect2 (from cairosvg)\n",
            "  Downloading cssselect2-0.8.0-py3-none-any.whl.metadata (2.9 kB)\n",
            "Requirement already satisfied: tinycss2 in /usr/local/lib/python3.12/dist-packages (from cairosvg) (1.4.0)\n",
            "Requirement already satisfied: scipy>=1.11.4 in /usr/local/lib/python3.12/dist-packages (from scikit-image) (1.16.1)\n",
            "Requirement already satisfied: networkx>=3.0 in /usr/local/lib/python3.12/dist-packages (from scikit-image) (3.5)\n",
            "Requirement already satisfied: imageio!=2.35.0,>=2.33 in /usr/local/lib/python3.12/dist-packages (from scikit-image) (2.37.0)\n",
            "Requirement already satisfied: tifffile>=2022.8.12 in /usr/local/lib/python3.12/dist-packages (from scikit-image) (2025.6.11)\n",
            "Requirement already satisfied: lazy-loader>=0.4 in /usr/local/lib/python3.12/dist-packages (from scikit-image) (0.4)\n",
            "Requirement already satisfied: aiohttp!=4.0.0a0,!=4.0.0a1 in /usr/local/lib/python3.12/dist-packages (from fsspec[http]<=2025.3.0,>=2023.1.0->datasets>=2.20.0) (3.12.15)\n",
            "Requirement already satisfied: typing-extensions>=3.7.4.3 in /usr/local/lib/python3.12/dist-packages (from huggingface-hub<1.0,>=0.23.2->transformers==4.45.2) (4.14.1)\n",
            "Requirement already satisfied: hf-xet<2.0.0,>=1.1.3 in /usr/local/lib/python3.12/dist-packages (from huggingface-hub<1.0,>=0.23.2->transformers==4.45.2) (1.1.7)\n",
            "Requirement already satisfied: charset_normalizer<4,>=2 in /usr/local/lib/python3.12/dist-packages (from requests->transformers==4.45.2) (3.4.3)\n",
            "Requirement already satisfied: idna<4,>=2.5 in /usr/local/lib/python3.12/dist-packages (from requests->transformers==4.45.2) (3.10)\n",
            "Requirement already satisfied: urllib3<3,>=1.21.1 in /usr/local/lib/python3.12/dist-packages (from requests->transformers==4.45.2) (2.5.0)\n",
            "Requirement already satisfied: certifi>=2017.4.17 in /usr/local/lib/python3.12/dist-packages (from requests->transformers==4.45.2) (2025.8.3)\n",
            "Requirement already satisfied: setuptools in /usr/local/lib/python3.12/dist-packages (from torch>=1.4.0->trl==0.9.4) (75.2.0)\n",
            "Requirement already satisfied: sympy>=1.13.3 in /usr/local/lib/python3.12/dist-packages (from torch>=1.4.0->trl==0.9.4) (1.13.3)\n",
            "Requirement already satisfied: jinja2 in /usr/local/lib/python3.12/dist-packages (from torch>=1.4.0->trl==0.9.4) (3.1.6)\n",
            "Requirement already satisfied: nvidia-cuda-nvrtc-cu12==12.6.77 in /usr/local/lib/python3.12/dist-packages (from torch>=1.4.0->trl==0.9.4) (12.6.77)\n",
            "Requirement already satisfied: nvidia-cuda-runtime-cu12==12.6.77 in /usr/local/lib/python3.12/dist-packages (from torch>=1.4.0->trl==0.9.4) (12.6.77)\n",
            "Requirement already satisfied: nvidia-cuda-cupti-cu12==12.6.80 in /usr/local/lib/python3.12/dist-packages (from torch>=1.4.0->trl==0.9.4) (12.6.80)\n",
            "Requirement already satisfied: nvidia-cudnn-cu12==9.10.2.21 in /usr/local/lib/python3.12/dist-packages (from torch>=1.4.0->trl==0.9.4) (9.10.2.21)\n",
            "Requirement already satisfied: nvidia-cublas-cu12==12.6.4.1 in /usr/local/lib/python3.12/dist-packages (from torch>=1.4.0->trl==0.9.4) (12.6.4.1)\n",
            "Requirement already satisfied: nvidia-cufft-cu12==11.3.0.4 in /usr/local/lib/python3.12/dist-packages (from torch>=1.4.0->trl==0.9.4) (11.3.0.4)\n",
            "Requirement already satisfied: nvidia-curand-cu12==10.3.7.77 in /usr/local/lib/python3.12/dist-packages (from torch>=1.4.0->trl==0.9.4) (10.3.7.77)\n",
            "Requirement already satisfied: nvidia-cusolver-cu12==11.7.1.2 in /usr/local/lib/python3.12/dist-packages (from torch>=1.4.0->trl==0.9.4) (11.7.1.2)\n",
            "Requirement already satisfied: nvidia-cusparse-cu12==12.5.4.2 in /usr/local/lib/python3.12/dist-packages (from torch>=1.4.0->trl==0.9.4) (12.5.4.2)\n",
            "Requirement already satisfied: nvidia-cusparselt-cu12==0.7.1 in /usr/local/lib/python3.12/dist-packages (from torch>=1.4.0->trl==0.9.4) (0.7.1)\n",
            "Requirement already satisfied: nvidia-nccl-cu12==2.27.3 in /usr/local/lib/python3.12/dist-packages (from torch>=1.4.0->trl==0.9.4) (2.27.3)\n",
            "Requirement already satisfied: nvidia-nvtx-cu12==12.6.77 in /usr/local/lib/python3.12/dist-packages (from torch>=1.4.0->trl==0.9.4) (12.6.77)\n",
            "Requirement already satisfied: nvidia-nvjitlink-cu12==12.6.85 in /usr/local/lib/python3.12/dist-packages (from torch>=1.4.0->trl==0.9.4) (12.6.85)\n",
            "Requirement already satisfied: nvidia-cufile-cu12==1.11.1.6 in /usr/local/lib/python3.12/dist-packages (from torch>=1.4.0->trl==0.9.4) (1.11.1.6)\n",
            "Requirement already satisfied: triton==3.4.0 in /usr/local/lib/python3.12/dist-packages (from torch>=1.4.0->trl==0.9.4) (3.4.0)\n",
            "Requirement already satisfied: docstring-parser>=0.15 in /usr/local/lib/python3.12/dist-packages (from tyro>=0.5.11->trl==0.9.4) (0.17.0)\n",
            "Requirement already satisfied: rich>=11.1.0 in /usr/local/lib/python3.12/dist-packages (from tyro>=0.5.11->trl==0.9.4) (13.9.4)\n",
            "Collecting shtab>=1.5.6 (from tyro>=0.5.11->trl==0.9.4)\n",
            "  Downloading shtab-1.7.2-py3-none-any.whl.metadata (7.4 kB)\n",
            "Requirement already satisfied: typeguard>=4.0.0 in /usr/local/lib/python3.12/dist-packages (from tyro>=0.5.11->trl==0.9.4) (4.4.4)\n",
            "Requirement already satisfied: cffi>=1.1.0 in /usr/local/lib/python3.12/dist-packages (from cairocffi->cairosvg) (1.17.1)\n",
            "Requirement already satisfied: webencodings in /usr/local/lib/python3.12/dist-packages (from cssselect2->cairosvg) (0.5.1)\n",
            "Requirement already satisfied: python-dateutil>=2.8.2 in /usr/local/lib/python3.12/dist-packages (from pandas->datasets>=2.20.0) (2.9.0.post0)\n",
            "Requirement already satisfied: pytz>=2020.1 in /usr/local/lib/python3.12/dist-packages (from pandas->datasets>=2.20.0) (2025.2)\n",
            "Requirement already satisfied: tzdata>=2022.7 in /usr/local/lib/python3.12/dist-packages (from pandas->datasets>=2.20.0) (2025.2)\n",
            "Requirement already satisfied: aiohappyeyeballs>=2.5.0 in /usr/local/lib/python3.12/dist-packages (from aiohttp!=4.0.0a0,!=4.0.0a1->fsspec[http]<=2025.3.0,>=2023.1.0->datasets>=2.20.0) (2.6.1)\n",
            "Requirement already satisfied: aiosignal>=1.4.0 in /usr/local/lib/python3.12/dist-packages (from aiohttp!=4.0.0a0,!=4.0.0a1->fsspec[http]<=2025.3.0,>=2023.1.0->datasets>=2.20.0) (1.4.0)\n",
            "Requirement already satisfied: attrs>=17.3.0 in /usr/local/lib/python3.12/dist-packages (from aiohttp!=4.0.0a0,!=4.0.0a1->fsspec[http]<=2025.3.0,>=2023.1.0->datasets>=2.20.0) (25.3.0)\n",
            "Requirement already satisfied: frozenlist>=1.1.1 in /usr/local/lib/python3.12/dist-packages (from aiohttp!=4.0.0a0,!=4.0.0a1->fsspec[http]<=2025.3.0,>=2023.1.0->datasets>=2.20.0) (1.7.0)\n",
            "Requirement already satisfied: multidict<7.0,>=4.5 in /usr/local/lib/python3.12/dist-packages (from aiohttp!=4.0.0a0,!=4.0.0a1->fsspec[http]<=2025.3.0,>=2023.1.0->datasets>=2.20.0) (6.6.4)\n",
            "Requirement already satisfied: propcache>=0.2.0 in /usr/local/lib/python3.12/dist-packages (from aiohttp!=4.0.0a0,!=4.0.0a1->fsspec[http]<=2025.3.0,>=2023.1.0->datasets>=2.20.0) (0.3.2)\n",
            "Requirement already satisfied: yarl<2.0,>=1.17.0 in /usr/local/lib/python3.12/dist-packages (from aiohttp!=4.0.0a0,!=4.0.0a1->fsspec[http]<=2025.3.0,>=2023.1.0->datasets>=2.20.0) (1.20.1)\n",
            "Requirement already satisfied: pycparser in /usr/local/lib/python3.12/dist-packages (from cffi>=1.1.0->cairocffi->cairosvg) (2.22)\n",
            "Requirement already satisfied: six>=1.5 in /usr/local/lib/python3.12/dist-packages (from python-dateutil>=2.8.2->pandas->datasets>=2.20.0) (1.17.0)\n",
            "Requirement already satisfied: markdown-it-py>=2.2.0 in /usr/local/lib/python3.12/dist-packages (from rich>=11.1.0->tyro>=0.5.11->trl==0.9.4) (4.0.0)\n",
            "Requirement already satisfied: pygments<3.0.0,>=2.13.0 in /usr/local/lib/python3.12/dist-packages (from rich>=11.1.0->tyro>=0.5.11->trl==0.9.4) (2.19.2)\n",
            "Requirement already satisfied: mpmath<1.4,>=1.1.0 in /usr/local/lib/python3.12/dist-packages (from sympy>=1.13.3->torch>=1.4.0->trl==0.9.4) (1.3.0)\n",
            "Requirement already satisfied: MarkupSafe>=2.0 in /usr/local/lib/python3.12/dist-packages (from jinja2->torch>=1.4.0->trl==0.9.4) (3.0.2)\n",
            "Requirement already satisfied: mdurl~=0.1 in /usr/local/lib/python3.12/dist-packages (from markdown-it-py>=2.2.0->rich>=11.1.0->tyro>=0.5.11->trl==0.9.4) (0.1.2)\n",
            "Downloading transformers-4.45.2-py3-none-any.whl (9.9 MB)\n",
            "\u001b[2K   \u001b[90m━━━━━━━━━━━━━━━━━━━━━━━━━━━━━━━━━━━━━━━━\u001b[0m \u001b[32m9.9/9.9 MB\u001b[0m \u001b[31m64.9 MB/s\u001b[0m eta \u001b[36m0:00:00\u001b[0m\n",
            "\u001b[?25hDownloading trl-0.9.4-py3-none-any.whl (226 kB)\n",
            "\u001b[2K   \u001b[90m━━━━━━━━━━━━━━━━━━━━━━━━━━━━━━━━━━━━━━━━\u001b[0m \u001b[32m226.7/226.7 kB\u001b[0m \u001b[31m23.5 MB/s\u001b[0m eta \u001b[36m0:00:00\u001b[0m\n",
            "\u001b[?25hDownloading peft-0.12.0-py3-none-any.whl (296 kB)\n",
            "\u001b[2K   \u001b[90m━━━━━━━━━━━━━━━━━━━━━━━━━━━━━━━━━━━━━━━━\u001b[0m \u001b[32m296.4/296.4 kB\u001b[0m \u001b[31m30.5 MB/s\u001b[0m eta \u001b[36m0:00:00\u001b[0m\n",
            "\u001b[?25hDownloading accelerate-0.34.2-py3-none-any.whl (324 kB)\n",
            "\u001b[2K   \u001b[90m━━━━━━━━━━━━━━━━━━━━━━━━━━━━━━━━━━━━━━━━\u001b[0m \u001b[32m324.4/324.4 kB\u001b[0m \u001b[31m34.7 MB/s\u001b[0m eta \u001b[36m0:00:00\u001b[0m\n",
            "\u001b[?25hDownloading lxml-6.0.1-cp312-cp312-manylinux_2_26_x86_64.manylinux_2_28_x86_64.whl (5.3 MB)\n",
            "\u001b[2K   \u001b[90m━━━━━━━━━━━━━━━━━━━━━━━━━━━━━━━━━━━━━━━━\u001b[0m \u001b[32m5.3/5.3 MB\u001b[0m \u001b[31m134.5 MB/s\u001b[0m eta \u001b[36m0:00:00\u001b[0m\n",
            "\u001b[?25hDownloading cairosvg-2.8.2-py3-none-any.whl (45 kB)\n",
            "\u001b[2K   \u001b[90m━━━━━━━━━━━━━━━━━━━━━━━━━━━━━━━━━━━━━━━━\u001b[0m \u001b[32m45.8/45.8 kB\u001b[0m \u001b[31m5.2 MB/s\u001b[0m eta \u001b[36m0:00:00\u001b[0m\n",
            "\u001b[?25hDownloading tokenizers-0.20.3-cp312-cp312-manylinux_2_17_x86_64.manylinux2014_x86_64.whl (3.0 MB)\n",
            "\u001b[2K   \u001b[90m━━━━━━━━━━━━━━━━━━━━━━━━━━━━━━━━━━━━━━━━\u001b[0m \u001b[32m3.0/3.0 MB\u001b[0m \u001b[31m105.2 MB/s\u001b[0m eta \u001b[36m0:00:00\u001b[0m\n",
            "\u001b[?25hDownloading tyro-0.9.28-py3-none-any.whl (129 kB)\n",
            "\u001b[2K   \u001b[90m━━━━━━━━━━━━━━━━━━━━━━━━━━━━━━━━━━━━━━━━\u001b[0m \u001b[32m129.2/129.2 kB\u001b[0m \u001b[31m15.0 MB/s\u001b[0m eta \u001b[36m0:00:00\u001b[0m\n",
            "\u001b[?25hDownloading cairocffi-1.7.1-py3-none-any.whl (75 kB)\n",
            "\u001b[2K   \u001b[90m━━━━━━━━━━━━━━━━━━━━━━━━━━━━━━━━━━━━━━━━\u001b[0m \u001b[32m75.6/75.6 kB\u001b[0m \u001b[31m8.8 MB/s\u001b[0m eta \u001b[36m0:00:00\u001b[0m\n",
            "\u001b[?25hDownloading cssselect2-0.8.0-py3-none-any.whl (15 kB)\n",
            "Downloading shtab-1.7.2-py3-none-any.whl (14 kB)\n",
            "Installing collected packages: shtab, lxml, cssselect2, cairocffi, tyro, tokenizers, cairosvg, transformers, accelerate, trl, peft\n",
            "  Attempting uninstall: lxml\n",
            "    Found existing installation: lxml 5.4.0\n",
            "    Uninstalling lxml-5.4.0:\n",
            "      Successfully uninstalled lxml-5.4.0\n",
            "  Attempting uninstall: tokenizers\n",
            "    Found existing installation: tokenizers 0.21.4\n",
            "    Uninstalling tokenizers-0.21.4:\n",
            "      Successfully uninstalled tokenizers-0.21.4\n",
            "Successfully installed accelerate-0.34.2 cairocffi-1.7.1 cairosvg-2.8.2 cssselect2-0.8.0 lxml-6.0.1 peft-0.12.0 shtab-1.7.2 tokenizers-0.20.3 transformers-4.45.2 trl-0.9.4 tyro-0.9.28\n"
          ]
        }
      ],
      "source": [
        "!pip uninstall -y transformers trl peft accelerate\n",
        "!pip install -U \"transformers==4.45.2\" \"trl==0.9.4\" \"peft==0.12.0\" \"accelerate==0.34.2\" \"datasets>=2.20.0\" safetensors einops lxml defusedxml cairosvg pillow scikit-image"
      ]
    },
    {
      "cell_type": "code",
      "execution_count": 5,
      "id": "kUgf_-fxtwkt",
      "metadata": {
        "colab": {
          "base_uri": "https://localhost:8080/"
        },
        "id": "kUgf_-fxtwkt",
        "outputId": "702ad2d5-c1df-4dcd-a14c-d445d7a5b96d"
      },
      "outputs": [
        {
          "name": "stdout",
          "output_type": "stream",
          "text": [
            "0.9.4\n"
          ]
        }
      ],
      "source": [
        "import trl\n",
        "\n",
        "print(trl.__version__)"
      ]
    },
    {
      "cell_type": "code",
      "execution_count": 8,
      "id": "b8badab6",
      "metadata": {
        "id": "b8badab6"
      },
      "outputs": [],
      "source": [
        "import torch\n",
        "from transformers import AutoModelForCausalLM, AutoTokenizer\n",
        "from peft import PeftModel"
      ]
    },
    {
      "cell_type": "code",
      "execution_count": 11,
      "id": "c6678b55",
      "metadata": {
        "colab": {
          "base_uri": "https://localhost:8080/",
          "height": 49,
          "referenced_widgets": [
            "dadc48b008754f9ca9750992b1acaee4",
            "3fc163ac6d3840d38845586990010b08",
            "d9649944065d4a9fb2cb48b5192381c5",
            "6f92a77ab52e4eeaa096be89dca8c881",
            "4360c81bc4d84872ab3844271b33de2f",
            "7045789a77024561bd4a8d4cc9e33655",
            "26512d910a5d42c89aac631422e99796",
            "e98aa6915c174774afa007f20c9c358b",
            "8c23ca7332fe4055bf130fc054cb5a4e",
            "35d6821d4a7b4eaea6e3b0e5ec4ae2da",
            "290e50f1ea3b44b8aca8931676fc33a8"
          ]
        },
        "id": "c6678b55",
        "outputId": "b0b07d09-87c5-4fce-e99a-3ba95c7ee8cd"
      },
      "outputs": [
        {
          "data": {
            "application/vnd.jupyter.widget-view+json": {
              "model_id": "dadc48b008754f9ca9750992b1acaee4",
              "version_major": 2,
              "version_minor": 0
            },
            "text/plain": [
              "Loading checkpoint shards:   0%|          | 0/2 [00:00<?, ?it/s]"
            ]
          },
          "metadata": {},
          "output_type": "display_data"
        }
      ],
      "source": [
        "# Load base model and tokenizer\n",
        "base_model = AutoModelForCausalLM.from_pretrained(\"meta-llama/CodeLlama-7b-Instruct-hf\", torch_dtype=torch.float16)\n",
        "tokenizer = AutoTokenizer.from_pretrained(\"/content/tokenizer_svg_extended\")\n",
        "\n",
        "# adjust the base model\n",
        "base_model.resize_token_embeddings(len(tokenizer))\n",
        "\n",
        "# Load LoRA weights\n",
        "lora_model = PeftModel.from_pretrained(base_model, \"/content/codellama_svg_qlora\")\n",
        "\n",
        "# Merge LoRA into the base model\n",
        "merged_model = lora_model.merge_and_unload()"
      ]
    },
    {
      "cell_type": "code",
      "execution_count": 12,
      "id": "fa29987d",
      "metadata": {
        "id": "fa29987d"
      },
      "outputs": [],
      "source": [
        "import math\n",
        "from datasets import Dataset\n",
        "from tqdm import tqdm"
      ]
    },
    {
      "cell_type": "code",
      "execution_count": 13,
      "id": "626bb52f",
      "metadata": {
        "colab": {
          "base_uri": "https://localhost:8080/"
        },
        "id": "626bb52f",
        "outputId": "1486424e-3af4-49cc-e6f9-48d56b04fdc4"
      },
      "outputs": [
        {
          "data": {
            "text/plain": [
              "LlamaForCausalLM(\n",
              "  (model): LlamaModel(\n",
              "    (embed_tokens): Embedding(32026, 4096)\n",
              "    (layers): ModuleList(\n",
              "      (0-31): 32 x LlamaDecoderLayer(\n",
              "        (self_attn): LlamaSdpaAttention(\n",
              "          (q_proj): Linear(in_features=4096, out_features=4096, bias=False)\n",
              "          (k_proj): Linear(in_features=4096, out_features=4096, bias=False)\n",
              "          (v_proj): Linear(in_features=4096, out_features=4096, bias=False)\n",
              "          (o_proj): Linear(in_features=4096, out_features=4096, bias=False)\n",
              "          (rotary_emb): LlamaRotaryEmbedding()\n",
              "        )\n",
              "        (mlp): LlamaMLP(\n",
              "          (gate_proj): Linear(in_features=4096, out_features=11008, bias=False)\n",
              "          (up_proj): Linear(in_features=4096, out_features=11008, bias=False)\n",
              "          (down_proj): Linear(in_features=11008, out_features=4096, bias=False)\n",
              "          (act_fn): SiLU()\n",
              "        )\n",
              "        (input_layernorm): LlamaRMSNorm((4096,), eps=1e-05)\n",
              "        (post_attention_layernorm): LlamaRMSNorm((4096,), eps=1e-05)\n",
              "      )\n",
              "    )\n",
              "    (norm): LlamaRMSNorm((4096,), eps=1e-05)\n",
              "    (rotary_emb): LlamaRotaryEmbedding()\n",
              "  )\n",
              "  (lm_head): Linear(in_features=4096, out_features=32026, bias=False)\n",
              ")"
            ]
          },
          "execution_count": 13,
          "metadata": {},
          "output_type": "execute_result"
        }
      ],
      "source": [
        "merged_model.eval().to(\"cuda\" if torch.cuda.is_available() else \"cpu\")"
      ]
    },
    {
      "cell_type": "code",
      "execution_count": 14,
      "id": "cb1d2d02",
      "metadata": {
        "id": "cb1d2d02"
      },
      "outputs": [],
      "source": [
        "import pandas as pd"
      ]
    },
    {
      "cell_type": "code",
      "execution_count": 39,
      "id": "3e562348",
      "metadata": {
        "colab": {
          "base_uri": "https://localhost:8080/"
        },
        "id": "3e562348",
        "outputId": "adc17c68-a8a8-49bb-c262-151c93d1f8a5"
      },
      "outputs": [
        {
          "name": "stdout",
          "output_type": "stream",
          "text": [
            "training: 8011, validation: 1001, testing: 1002\n"
          ]
        }
      ],
      "source": [
        "# load evaluation data\n",
        "dataset = pd.read_csv(\"/content/data10k.csv\")\n",
        "dataset = dataset[['description', 'svg']]\n",
        "\n",
        "# Create the text column\n",
        "dataset[\"text\"] = dataset.apply(lambda row: f\"Given the following description: {row['description']}, generate the corresponding SVG string.\\n{row['svg']}\",\n",
        "                                axis=1)\n",
        "SEED = 42\n",
        "ds_all = Dataset.from_pandas(dataset[[\"text\"]], preserve_index=False)\n",
        "training, temp = ds_all.train_test_split(test_size=0.2, seed=SEED).values()\n",
        "validation, testing = temp.train_test_split(test_size=0.5, seed=SEED).values()\n",
        "print(f\"training: {len(training)}, validation: {len(validation)}, testing: {len(testing)}\")"
      ]
    },
    {
      "cell_type": "code",
      "execution_count": 40,
      "id": "1fd73ac8",
      "metadata": {
        "colab": {
          "base_uri": "https://localhost:8080/",
          "height": 49,
          "referenced_widgets": [
            "1902d679807945c3b7349b228c86f727",
            "1d9cc021346749ec94b00a9e1a67687c",
            "64ac12e75f144c0ba7c06f69505e8d79",
            "45c3f6741c66449298742a7336697351",
            "81807b0e2ceb4bda93319eb611cb0cde",
            "c0d1ee53451c429eaffebc633f177551",
            "eaf07913566b4f9d8732b776395bd271",
            "009bdfea24cc46f5b00895bfcf2304c1",
            "ac3dddc7f38b4a4f84632317958f1d4d",
            "759759284827445dbe67e6c1a63f72d1",
            "a02a14db41ef4aed83ca11f0fafa3092"
          ]
        },
        "id": "1fd73ac8",
        "outputId": "fe7e38b0-bd09-4730-8c9e-221f5e6c1ec8"
      },
      "outputs": [
        {
          "data": {
            "application/vnd.jupyter.widget-view+json": {
              "model_id": "1902d679807945c3b7349b228c86f727",
              "version_major": 2,
              "version_minor": 0
            },
            "text/plain": [
              "Map:   0%|          | 0/1002 [00:00<?, ? examples/s]"
            ]
          },
          "metadata": {},
          "output_type": "display_data"
        }
      ],
      "source": [
        "# Tokenize the evaluation data\n",
        "def tokenize(example):\n",
        "    tokenized = tokenizer(\n",
        "        example[\"text\"],\n",
        "        return_tensors=\"pt\",\n",
        "        padding=\"max_length\",\n",
        "        truncation=True,\n",
        "        max_length=1024,\n",
        "    )\n",
        "    example[\"input_ids\"] = tokenized[\"input_ids\"][0].tolist()\n",
        "    example[\"attention_mask\"] = tokenized[\"attention_mask\"][0].tolist()\n",
        "    return example\n",
        "\n",
        "tokenized_dataset = testing.map(tokenize)"
      ]
    },
    {
      "cell_type": "code",
      "execution_count": 18,
      "id": "29d5086e",
      "metadata": {
        "colab": {
          "base_uri": "https://localhost:8080/"
        },
        "id": "29d5086e",
        "outputId": "f8ced509-0b6f-4b70-a686-eca7a76d7cdc"
      },
      "outputs": [
        {
          "name": "stderr",
          "output_type": "stream",
          "text": [
            "100%|██████████| 1002/1002 [01:25<00:00, 11.73it/s]"
          ]
        },
        {
          "name": "stdout",
          "output_type": "stream",
          "text": [
            "\n",
            "Average Loss: 1.2130\n",
            "Perplexity:   3.3636\n"
          ]
        },
        {
          "name": "stderr",
          "output_type": "stream",
          "text": [
            "\n"
          ]
        }
      ],
      "source": [
        "# Compute perplexity\n",
        "losses = []\n",
        "\n",
        "for example in tqdm(tokenized_dataset):\n",
        "    input_ids = torch.tensor(example[\"input_ids\"], dtype=torch.long).unsqueeze(0).to(merged_model.device)\n",
        "    attention_mask = torch.tensor(example[\"attention_mask\"], dtype=torch.long).unsqueeze(0).to(merged_model.device)\n",
        "    labels = input_ids.clone()\n",
        "\n",
        "    with torch.no_grad():\n",
        "        # get metric values\n",
        "        outputs = merged_model(input_ids=input_ids, attention_mask=attention_mask, labels=labels)\n",
        "        loss = outputs.loss\n",
        "        losses.append(loss.item())\n",
        "\n",
        "\n",
        "avg_loss = sum(losses) / len(losses)\n",
        "perplexity = math.exp(avg_loss)\n",
        "\n",
        "print(f\"\\nAverage Loss: {avg_loss:.4f}\")\n",
        "print(f\"Perplexity:   {perplexity:.4f}\")"
      ]
    },
    {
      "cell_type": "code",
      "execution_count": 41,
      "id": "5fl_7OHxTWhP",
      "metadata": {
        "colab": {
          "base_uri": "https://localhost:8080/"
        },
        "id": "5fl_7OHxTWhP",
        "outputId": "c91d9f02-cf6e-410c-c246-8cdab6e543a3"
      },
      "outputs": [
        {
          "name": "stderr",
          "output_type": "stream",
          "text": [
            "  0%|          | 0/50 [03:38<?, ?it/s]"
          ]
        },
        {
          "name": "stdout",
          "output_type": "stream",
          "text": [
            "91\" />\n",
            "<polygonpoints=\"0.0,252.0 307.0,274.0\"  #f6e9dc\" />\n",
            "<polygon>0.0,262.0 108.0,252.0\"#d08f91\" />\n",
            "<polygon>0.0,295.0 255.0,318.0 108.0,299.0 188.0,252.0\" #d08f91\" />\n",
            "<polygon>0.0,368.0 301.0,368.0 186.0,368.0 109.0,367.0\" #f6e9dc\" />\n",
            "<polygon>53.0,0.0 53.0,104.0\" #d08f91\" />\n",
            "<polygon>0.0,383.0 53.0,397.0\" #f6e9dc\" />\n",
            "<polygon>111.0,414.0 249.0,449.0 412.0,416.0 452.0,441.0 532.0,441.0\" #1f9891\" />\n",
            "<polygon>247.0,468.0 307.0,372.0 450.0,372.0 510.0,361.0 540.0,361.0\" #f6e9dc\" />\n",
            "<polygon>451.0,518.0 527.0,552.0 529.0,330.0 549.0,330.0 496.0,496.0\" #f6e9dc\" />\n",
            "<polygon>242.0,0.0 249.0,66.0\" #d08f91\" />\n",
            "<polygon>0.0,356.0 85.0,356.0 140.0,413.0 110.0,158.0 108.0,252.0 158.0,252.0 161.0,356.0 197.0,356.0\" #d08f91\" />\n",
            "<polygon>383.0,397.0 307.0,397.0 453.0,453.0 350.0,450.0 306.0,306.0 251.0,452.0\" #1f9891\" />\n",
            "<polygon>250.0,0.0 252.0,50.0\" #d08f91\" />\n",
            "<polygon>0.0,396.0 106.0,392.0 108.0,344.0 331.0,318.0 330.0,412.0\" #f6e9dc\" />\n",
            "<polygon>85.0,96.0 85.0,251.0\" #1f9891\" />\n",
            "<polygon>359.0,299.0 387.0,456.0 383.0,66.0 316.0,66.0 398.0,60.0 396.0,356.0\" #1f9891\" />\n",
            "<polygon>354.0,288.0 396.0,340.0 399.0,451.0 377.0,651.0 293.0,353.0\" #40ccc0\" />\n",
            "<polygon>0.0,330.0 85.0,295.0 123.0,262.0 106.0,278.0\" #d08f91\" />\n",
            "<polygon>306.0,353.0 301.0,352.0 306.0,464.0 301.0,464.0 278.0,278.0 356.0,356.0\" #1f9891\" />\n",
            "<polygon>255.0,462.0 254.0,266.0 109.0,241.0 106.0,449.0 355.0,449.0 306.0,253.0\" #1f9891\" />\n",
            "<polygon>258.0,113.0 262.0,259.0 411.0,213.0 454.0,219.0 451.0,306.0 215.0,331.0\" #f6e9dc\" />\n",
            "<polygon>332.0,330.0 315.0,389.0 312.0,522.0 455.0,519.0 450.0,523.0 333.0,378.0 381.0,671.0 387.0,663.0 651.0,663.0\" #1f9891\" />\n",
            "<polygon>353.0,0.0 352.0,465.0 396.0,66.0 278.0,118.0 158.0,113.0 255.0,158.0\" #d08f91\" />\n",
            "<polygon>0.0,362.0 53.0,443.0 60.0,336.0 108.0,253.0 111.0,334.0 160.0,330.0 247.0,333.0\" #d08f91\" />\n",
            "<polygon>351.0,439.0 352.0,544.0 239.0,394.0 362.0,546.0 239.0,394.0 395.0,380.0\" #f6e9dc\" />\n",
            "<polygon>365.0,199.0 369.0,207.0 361.0,371.0 361.0,413.0 354.0,389.0\" #f6e9dc\" />\n",
            "<polygon>448.0,50.0 448.0,113.0 448.0,50.0 448.0,61.0 441.0,158.0 113.0,158.0 438.0,450.0\" #40ccc0\" />\n",
            "<polygon>253.0,295.0 299.0,262.0 157.0,262.0 132.0,275.0 245.0,314.0 252.0,252.0 252.0,288.0 249.0,295.0\" #d08f91\" />\n",
            "<polygon>246.0,0.0 245.0,148.0 244.0,388.0 234.0,388.0 234.0,468.0 207.0,262.0\" #d08f91\" />\n",
            "<polygon>0.0,333.0 307.0,442.0 350.0,545.0 361.0,566.0 457.0,565.0 330.0,330.0\" #f6e9dc\" />\n",
            "<polygon>306.0,388.0 352.0,414.0 415.0,531.0 251.0,262.0 250.0,295.0\" #f6e9dc\" />\n",
            "<polygon>361.0,508.0 358.0,569.0 293.0,255.0 361.0,262.0\" #f6e9dc\" />\n",
            "<polygon>273.0,0.0 265.0,156.0 263.0,265.0 262.0,149.0 199.0,262.0 177.0,262.0 130.0,374.0\" #f6e9dc\" />\n",
            "<polygon>53.0,0.0 300.0,55.0 60.0,40.0\" #1f9891\" />\n",
            "<polygon>0.0,321.0 108.0,253.0 253.0,262.0 213.0,262.0\" #d08f91\" />\n",
            "<polygon>0.0,150.0 255.0,157.0 270.0,65.0 261.0,254.0 250.0,260.0 186.0,159.0 244.0,253.0 150.0,160.0 145.0,205.0 331.0,148.0 330.0,158.0\" #1f9891\" />\n",
            "<polygon>215.0,418.0 262.0,241.0 309.0,241.0 323.0,299.0 323.0,313.0 296.0,314.0 301.0,355.0 301.0,315.0 327.0,336.0\" #d08f91\" />\n",
            "<polygon>117.0,327.0 138.0,331.0 146.0,404.0 107.0,107.0 105.0,349.0 382.0,349.0 160.0,349.0\" #d08f91\" />\n",
            "<polygon>308.0,395.0 307.0,395.0 293.0,333.0 357.0,375.0 356.0,547.0\" #d08f91\" />\n",
            "<polygon>111.0,326.0 115.0,330.0 423.0,326.0 310.0,393.0\" #d08f91\" />\n",
            "<polygon>249.0,393.0 263.0,500.0 257.0,500.0 265.0,266.0 445.0,325.0 418.0,155.0\" #1f9891\" />\n",
            "<polygon>395.0,516.0 399.0,544.0 408.0,516.0 413.0,515.0\" #40ccc0\" />\n",
            "<polygon>50.0,285.0 53.0,103.0 56.0,0.0 60.0,197.0 60.0,197.0 55.0,55.0 367.0,55.0 196.0,66.0 155.0,254.0\" #1f9891\" />\n",
            "<polygon>54.0,313.0 58.0,511.0 62.0,307.0 53.0,348.0\" #40ccc0\" />\n",
            "<polygon>282.0,253.0 285.0,285.0 411.0,411.0 353.0,66.0 296.0,354.0 293.0,218.0 417.0,217.0 421.0,260.0 407.0,217.0\" #1f9891\" />\n",
            "<polygon>311.0,207.0 339.0,556.0 264.0,549.0 286.0,441.0 461.0,410.0 456.0,545.0 458.0,66.0\" #40ccc0\" />\n",
            "<polygon>253.0,262.0 247.0,374.0 411.0,553.0 249.0,66.0 274.0,64.0\" #d08f91\" />\n",
            "<polygon>261.0,411.0 399.0,549.0 263.0,241.0 425.0,67.0 293.0,244.0 306.0,458.0 252.0,335.0\" #1f9891\" />\n",
            "<polygon>255.0,311.0 253.0,257.0 307.0,357.0 314.0,431.0 441.0,413.0\" #40ccc0\" />\n",
            "<polygon>352.0,338.0 407.0,442.0 449.0,334.0 272.0,520.0\" #d08f91\" />\n",
            "<polygon>355.0,339.0 316.0,364.0 436.0,416.0 460.0,262.0 413.0,263.0\" #d08f91\" />\n",
            "<polygon>293.0,377.0 243.0,338.0 145.0,335.0\" #1f9891\" />\n",
            "<polygon>250.0,658.0 251.0,67.0 312.0,391.0 251.0,218.0 107.0,107.0 157.0,60.0 275.0,246.0 253.0,263.0\" #1f9891\" />\n",
            "<polygon>296.0,66.0 343.0,547.0 468.0,275.0 475.0,251.0\" #d08f91\" />\n",
            "<polygon>521.0,64.0 521.0,256.0 531.0,261.0 252.0,112.0 252.0,65.0\" #1f9891\" />\n",
            "<polygon>282.0,407.0 299.0,424.0 396.0,456.0 406.0,304.0 462.0,577.0\" #1f9891\" />\n",
            "<polygon>357.0,610.0 259.0,629.0 260.0,665.0 251.0,256.0 253.0,216.0 287.0,647.0\" #1f9891\" />\n",
            "<polygon>310.0,631.0 363.0,555.0 253.0,313.0 364.0,460.0 361.0,458.0 350.0,556.0 361.0,606.0 432.0,660.0 334.0,649.0\" #40ccc0\" />\n",
            "<polygon>353.0,558.0 254.0,556.0 530.0,104.0 246.0,157.0\" #40ccc0\" />\n",
            "<polygon>357.0,670.0 359.0,660.0 370.0,662.0 435.0,556.0 435.0,600.0 370.0,244.0 461.0,317.0 472.0,554.0 373.0,554.0\" #f6e9dc\" />\n",
            "<polygon>361.0,676.0 334.0,676.0 334.0,157.0 338.0,398.0 439.0,406.0\" #f6e9dc\" />\n",
            "<polygon>460.0,676.0 252.0,407.0 251.0,512.0 258.0,412.0 257.0,435.0\" #1f9891\" />\n",
            "<polygon>244.0,152.0 248.0,154.0 393.0,405.0 395.0,407.0 303.0,360.0 301.0,372.0 307.0,364.0 255.0,261.0 307.0,400.0 303.0,315.0 326.0,504.0 362.0,458.0 301.0,431.0 360.0,578.0\" #1f9891\" />\n",
            "<polygon>313.0,213.0 362.0,393.0 315.0,240.0 247.0,305.0 406.0,517.0\" #1f9891\" />\n",
            "<polygon>265.0,315.0 308.0,195.0 408.0,66.0 517.0,158.0 311.0,330.0 567.0,423.0 352.0,550.0 245.0,543.0 196.0,513.0 261.0,657.0 258.0,540.0 249.0,256.0 252.0,317.0\" #40ccc0\" />\n",
            "<polygon>255.0,296.0 410.0,658.0 513.0,415.0 410.0,318.0 424.0,260.0 252.0,262.0 258.0,558.0 521.0,446.0 316.0,241.0\" #1f9891\" />\n",
            "<polygon>407.0,656.0 408.0,511.0 256.0,562.0 564.0,558.0 561.0,563.0 462.0,661.0 561.0,641.0\" #1f9891\" />\n",
            "<polygon>507.0,244.0 408.0,613.0 506.0,510.0 507.0,549.0\" #1f9891\" />\n",
            "<polygon>510.0,344.0 447.0,292.0 344.0,614.0 251.0,248.0 244.0,258.0 256.0,253.0 250.0,301.0 258.0,307.0 445.0,257.0\" #d08f91\" />\n",
            "<polygon>315.0,535.0 358.0,205.0 241.0,206.0 313.0,659.0 448.0,661.0 256.0,531.0 356.0,552.0 536.0,336.0\" #40ccc0\" />\n",
            "<polygon>531.0,652.0 316.0,652.0 536.0,640.0 550.0,254.0 539.0,510.0 549.0,216.0\" #40ccc0\" />\n",
            "<polygon>246.0,601.0 252.0,588.0 437.0,284.0 525.0,529.0 276.0,524.0 264.0,678.0\" #40ccc0\" />\n",
            "<polygon>251.0,572.0 246.0,510.0 446.0,379.0 296.0,157.0 309.0,550.0 155.0,198.0\" #1f9891\" />\n",
            "<polygon>256.0,572.0 364.0,510.0 253.0,575.0 317.0,555.0 317.0,159.0\" #1f9891\" />\n",
            "<polygon>358.0,378.0 254.0,157.0 306.0,111.0 306.0,556.0\" #40ccc0\" />\n",
            "<polygon>275.0,455.0 434.0,519.0 332.0,622.0 323.0,625.0 259.0,621.0 311.0,611.0\" #1f9891\" />\n",
            "<polygon>0.0,197.0 306.0,510.0 337.0,437.0 383.0,668.0 263.0,465.0 282.0,578.0 251.0,257.0 451.0,246.0\" #1f9891\" />\n",
            "<polygon>538.0,419.0 536.0,665.0 253.0,252.0 255.0,311.0 110.0,558.0 549.0,543.0 564.0,259.0\" #d08f9\n"
          ]
        },
        {
          "name": "stderr",
          "output_type": "stream",
          "text": [
            "\n"
          ]
        }
      ],
      "source": [
        "for example in tqdm(tokenized_dataset.select(range(50))):\n",
        "    input_ids = torch.tensor(example[\"input_ids\"], dtype=torch.long).unsqueeze(0).to(merged_model.device)\n",
        "    attention_mask = torch.tensor(example[\"attention_mask\"], dtype=torch.long).unsqueeze(0).to(merged_model.device)\n",
        "    labels = input_ids.clone()\n",
        "\n",
        "    with torch.no_grad():\n",
        "        generated_tokens = merged_model.generate(\n",
        "            input_ids=input_ids,\n",
        "            attention_mask=attention_mask,\n",
        "            max_new_tokens=6400,\n",
        "            do_sample=True,\n",
        "            top_k=50,\n",
        "            top_p=0.95,\n",
        "            pad_token_id=tokenizer.eos_token_id,\n",
        "        )\n",
        "        prompt_len = input_ids.shape[1]\n",
        "        output_tokens = generated_tokens[0, prompt_len:]\n",
        "        generated_svg_string = tokenizer.decode(output_tokens, skip_special_tokens=True)\n",
        "        print(generated_svg_string)\n",
        "        break"
      ]
    },
    {
      "cell_type": "code",
      "execution_count": null,
      "id": "m7xOA-cJLO0R",
      "metadata": {
        "colab": {
          "base_uri": "https://localhost:8080/"
        },
        "id": "m7xOA-cJLO0R",
        "outputId": "cb330b08-4c11-4db1-fcc1-f9c8711e4951"
      },
      "outputs": [
        {
          "name": "stdout",
          "output_type": "stream",
          "text": [
            "\n",
            "\n",
            "\\begin{code}\n",
            "cat_on_beach() {\n",
            "  cat <<EOF\n",
            "  <svg xmlns=\"http://www.w3.org/2000/svg\" viewBox=\"0 0 100 100\">\n",
            "    <ellipse cx=\"50\" cy=\"50\" rx=\"40\" ry=\"35\" fill=\"#d38e4d\"/>\n",
            "    <path d=\"M50 40L62 52 70 60\" stroke=\"#c08006\" stroke-width=\"3\"/>\n",
            "    <path d=\"M50 40L78 52 70 60\" stroke=\"#c08006\" stroke-width=\"3\"/>\n",
            "    <path d=\"M50 50L67 70 70 60\" stroke=\"#c08006\" stroke-width=\"3\"/>\n",
            "    <path d=\"M50 50L81 70 70 60\" stroke=\"#c08006\" stroke-width=\"3\"/>\n",
            "    <path d=\"M50 60L67 78 70 60\" stroke=\"#c08006\" stroke-width=\"3\"/>\n",
            "    <path d=\"M50 60L81 78 70 60\" stroke=\"#c08006\" stroke-width=\"3\"/>\n",
            "  </svg>\n",
            "EOF\n",
            "}\n",
            "\n",
            "cat_on_beach | xclip -selection clipboard\n",
            "\\end{code}\n",
            "\n",
            "The only real drawback to this solution is that xclip copies to the clipboard the text string of the SVG. This might be a problem if the SVG is large or if it needs to be shared using another medium such as file transfer or email. An alternative to xclip, especially in cases of large data, is the \"clip\" command.\n",
            "\n",
            "\\begin{code}\n",
            "cat_on_beach() {\n",
            "  cat <<EOF\n",
            "  <svg xmlns=\"http://www.w3.org/2000/svg\" viewBox=\"0 0 100 100\">\n",
            "    <ellipse cx=\"50\" cy=\"50\" rx=\"40\" ry=\"35\" fill=\"#d38e4d\"/>\n",
            "    <path d=\"M50 40L62 52 70 60\" stroke=\"#c08006\" stroke-width=\"3\"/>\n",
            "    <path d=\"M50 40L78 52 70 60\" stroke=\"#c08006\" stroke-width=\"3\"/>\n",
            "    <path d=\"M50 50L67 70 70 60\" stroke=\"#c08006\" stroke-width=\"3\"/>\n",
            "    <path d=\"M50 50L81 70 70 60\" stroke=\"#c08006\" stroke-width=\"3\"/>\n",
            "    <path d=\"M50 60L67 78 70 60\" stroke=\"#c08006\" stroke-width=\"3\"/>\n",
            "    <path d=\"M50 60L81 78 70 60\" stroke=\"#c08006\" stroke-width=\"3\"/>\n",
            "  </svg>\n",
            "EOF\n",
            "}\n",
            "\n",
            "export -f cat_on_beach\n",
            "clip cat_on_beach\n",
            "\\end{code}\n",
            "\n",
            "The clip command copies to a file.\n",
            "\n",
            "For a more complete solution we can wrap the clip command with a bash function.\n",
            "\n",
            "\\begin{code}\n",
            "clip() {\n",
            "  echo \"$(cat_on_beach)\" | clip $@\n",
            "}\n",
            "\\end{code}\n",
            "\n",
            "So now we can execute the following line:\n",
            "\n",
            "\\begin{code}\n",
            "clip\n",
            "\\end{code}\n",
            "\n",
            "and get the output of our description as an SVG string.\n"
          ]
        }
      ],
      "source": [
        "# format prompt\n",
        "description = \"a cat on a beach\"\n",
        "prompt = f\"Given the following description: {description}, generate the corresponding SVG string.\\n\"\n",
        "\n",
        "# tokenize prompt\n",
        "input_ids = tokenizer(prompt, return_tensors=\"pt\").input_ids.to(merged_model.device)\n",
        "attention_mask = tokenizer(prompt, return_tensors=\"pt\").attention_mask.to(merged_model.device)\n",
        "\n",
        "with torch.no_grad():\n",
        "  generated_tokens = merged_model.generate(\n",
        "            input_ids=input_ids,\n",
        "            attention_mask=attention_mask,\n",
        "            max_new_tokens=6400,\n",
        "            do_sample=True,\n",
        "            top_k=50,\n",
        "            top_p=0.95,\n",
        "            pad_token_id=tokenizer.eos_token_id,\n",
        "        )\n",
        "  prompt_len = input_ids.shape[1]\n",
        "  output_tokens = generated_tokens[0, prompt_len:]\n",
        "  generated_svg_string = tokenizer.decode(output_tokens, skip_special_tokens=True)\n",
        "\n",
        "print(generated_svg_string)"
      ]
    },
    {
      "cell_type": "code",
      "execution_count": null,
      "id": "tyW7XaZCStwf",
      "metadata": {
        "id": "tyW7XaZCStwf"
      },
      "outputs": [],
      "source": []
    }
  ],
  "metadata": {
    "accelerator": "GPU",
    "colab": {
      "gpuType": "A100",
      "machine_shape": "hm",
      "provenance": []
    },
    "kernelspec": {
      "display_name": "Python 3",
      "name": "python3"
    },
    "language_info": {
      "name": "python"
    },
    "widgets": {
      "application/vnd.jupyter.widget-state+json": {
        "009bdfea24cc46f5b00895bfcf2304c1": {
          "model_module": "@jupyter-widgets/base",
          "model_module_version": "1.2.0",
          "model_name": "LayoutModel",
          "state": {
            "_model_module": "@jupyter-widgets/base",
            "_model_module_version": "1.2.0",
            "_model_name": "LayoutModel",
            "_view_count": null,
            "_view_module": "@jupyter-widgets/base",
            "_view_module_version": "1.2.0",
            "_view_name": "LayoutView",
            "align_content": null,
            "align_items": null,
            "align_self": null,
            "border": null,
            "bottom": null,
            "display": null,
            "flex": null,
            "flex_flow": null,
            "grid_area": null,
            "grid_auto_columns": null,
            "grid_auto_flow": null,
            "grid_auto_rows": null,
            "grid_column": null,
            "grid_gap": null,
            "grid_row": null,
            "grid_template_areas": null,
            "grid_template_columns": null,
            "grid_template_rows": null,
            "height": null,
            "justify_content": null,
            "justify_items": null,
            "left": null,
            "margin": null,
            "max_height": null,
            "max_width": null,
            "min_height": null,
            "min_width": null,
            "object_fit": null,
            "object_position": null,
            "order": null,
            "overflow": null,
            "overflow_x": null,
            "overflow_y": null,
            "padding": null,
            "right": null,
            "top": null,
            "visibility": null,
            "width": null
          }
        },
        "1902d679807945c3b7349b228c86f727": {
          "model_module": "@jupyter-widgets/controls",
          "model_module_version": "1.5.0",
          "model_name": "HBoxModel",
          "state": {
            "_dom_classes": [],
            "_model_module": "@jupyter-widgets/controls",
            "_model_module_version": "1.5.0",
            "_model_name": "HBoxModel",
            "_view_count": null,
            "_view_module": "@jupyter-widgets/controls",
            "_view_module_version": "1.5.0",
            "_view_name": "HBoxView",
            "box_style": "",
            "children": [
              "IPY_MODEL_1d9cc021346749ec94b00a9e1a67687c",
              "IPY_MODEL_64ac12e75f144c0ba7c06f69505e8d79",
              "IPY_MODEL_45c3f6741c66449298742a7336697351"
            ],
            "layout": "IPY_MODEL_81807b0e2ceb4bda93319eb611cb0cde"
          }
        },
        "1d9cc021346749ec94b00a9e1a67687c": {
          "model_module": "@jupyter-widgets/controls",
          "model_module_version": "1.5.0",
          "model_name": "HTMLModel",
          "state": {
            "_dom_classes": [],
            "_model_module": "@jupyter-widgets/controls",
            "_model_module_version": "1.5.0",
            "_model_name": "HTMLModel",
            "_view_count": null,
            "_view_module": "@jupyter-widgets/controls",
            "_view_module_version": "1.5.0",
            "_view_name": "HTMLView",
            "description": "",
            "description_tooltip": null,
            "layout": "IPY_MODEL_c0d1ee53451c429eaffebc633f177551",
            "placeholder": "​",
            "style": "IPY_MODEL_eaf07913566b4f9d8732b776395bd271",
            "value": "Map: 100%"
          }
        },
        "26512d910a5d42c89aac631422e99796": {
          "model_module": "@jupyter-widgets/controls",
          "model_module_version": "1.5.0",
          "model_name": "DescriptionStyleModel",
          "state": {
            "_model_module": "@jupyter-widgets/controls",
            "_model_module_version": "1.5.0",
            "_model_name": "DescriptionStyleModel",
            "_view_count": null,
            "_view_module": "@jupyter-widgets/base",
            "_view_module_version": "1.2.0",
            "_view_name": "StyleView",
            "description_width": ""
          }
        },
        "290e50f1ea3b44b8aca8931676fc33a8": {
          "model_module": "@jupyter-widgets/controls",
          "model_module_version": "1.5.0",
          "model_name": "DescriptionStyleModel",
          "state": {
            "_model_module": "@jupyter-widgets/controls",
            "_model_module_version": "1.5.0",
            "_model_name": "DescriptionStyleModel",
            "_view_count": null,
            "_view_module": "@jupyter-widgets/base",
            "_view_module_version": "1.2.0",
            "_view_name": "StyleView",
            "description_width": ""
          }
        },
        "35d6821d4a7b4eaea6e3b0e5ec4ae2da": {
          "model_module": "@jupyter-widgets/base",
          "model_module_version": "1.2.0",
          "model_name": "LayoutModel",
          "state": {
            "_model_module": "@jupyter-widgets/base",
            "_model_module_version": "1.2.0",
            "_model_name": "LayoutModel",
            "_view_count": null,
            "_view_module": "@jupyter-widgets/base",
            "_view_module_version": "1.2.0",
            "_view_name": "LayoutView",
            "align_content": null,
            "align_items": null,
            "align_self": null,
            "border": null,
            "bottom": null,
            "display": null,
            "flex": null,
            "flex_flow": null,
            "grid_area": null,
            "grid_auto_columns": null,
            "grid_auto_flow": null,
            "grid_auto_rows": null,
            "grid_column": null,
            "grid_gap": null,
            "grid_row": null,
            "grid_template_areas": null,
            "grid_template_columns": null,
            "grid_template_rows": null,
            "height": null,
            "justify_content": null,
            "justify_items": null,
            "left": null,
            "margin": null,
            "max_height": null,
            "max_width": null,
            "min_height": null,
            "min_width": null,
            "object_fit": null,
            "object_position": null,
            "order": null,
            "overflow": null,
            "overflow_x": null,
            "overflow_y": null,
            "padding": null,
            "right": null,
            "top": null,
            "visibility": null,
            "width": null
          }
        },
        "3fc163ac6d3840d38845586990010b08": {
          "model_module": "@jupyter-widgets/controls",
          "model_module_version": "1.5.0",
          "model_name": "HTMLModel",
          "state": {
            "_dom_classes": [],
            "_model_module": "@jupyter-widgets/controls",
            "_model_module_version": "1.5.0",
            "_model_name": "HTMLModel",
            "_view_count": null,
            "_view_module": "@jupyter-widgets/controls",
            "_view_module_version": "1.5.0",
            "_view_name": "HTMLView",
            "description": "",
            "description_tooltip": null,
            "layout": "IPY_MODEL_7045789a77024561bd4a8d4cc9e33655",
            "placeholder": "​",
            "style": "IPY_MODEL_26512d910a5d42c89aac631422e99796",
            "value": "Loading checkpoint shards: 100%"
          }
        },
        "4360c81bc4d84872ab3844271b33de2f": {
          "model_module": "@jupyter-widgets/base",
          "model_module_version": "1.2.0",
          "model_name": "LayoutModel",
          "state": {
            "_model_module": "@jupyter-widgets/base",
            "_model_module_version": "1.2.0",
            "_model_name": "LayoutModel",
            "_view_count": null,
            "_view_module": "@jupyter-widgets/base",
            "_view_module_version": "1.2.0",
            "_view_name": "LayoutView",
            "align_content": null,
            "align_items": null,
            "align_self": null,
            "border": null,
            "bottom": null,
            "display": null,
            "flex": null,
            "flex_flow": null,
            "grid_area": null,
            "grid_auto_columns": null,
            "grid_auto_flow": null,
            "grid_auto_rows": null,
            "grid_column": null,
            "grid_gap": null,
            "grid_row": null,
            "grid_template_areas": null,
            "grid_template_columns": null,
            "grid_template_rows": null,
            "height": null,
            "justify_content": null,
            "justify_items": null,
            "left": null,
            "margin": null,
            "max_height": null,
            "max_width": null,
            "min_height": null,
            "min_width": null,
            "object_fit": null,
            "object_position": null,
            "order": null,
            "overflow": null,
            "overflow_x": null,
            "overflow_y": null,
            "padding": null,
            "right": null,
            "top": null,
            "visibility": null,
            "width": null
          }
        },
        "45c3f6741c66449298742a7336697351": {
          "model_module": "@jupyter-widgets/controls",
          "model_module_version": "1.5.0",
          "model_name": "HTMLModel",
          "state": {
            "_dom_classes": [],
            "_model_module": "@jupyter-widgets/controls",
            "_model_module_version": "1.5.0",
            "_model_name": "HTMLModel",
            "_view_count": null,
            "_view_module": "@jupyter-widgets/controls",
            "_view_module_version": "1.5.0",
            "_view_name": "HTMLView",
            "description": "",
            "description_tooltip": null,
            "layout": "IPY_MODEL_759759284827445dbe67e6c1a63f72d1",
            "placeholder": "​",
            "style": "IPY_MODEL_a02a14db41ef4aed83ca11f0fafa3092",
            "value": " 1002/1002 [00:07&lt;00:00, 145.86 examples/s]"
          }
        },
        "64ac12e75f144c0ba7c06f69505e8d79": {
          "model_module": "@jupyter-widgets/controls",
          "model_module_version": "1.5.0",
          "model_name": "FloatProgressModel",
          "state": {
            "_dom_classes": [],
            "_model_module": "@jupyter-widgets/controls",
            "_model_module_version": "1.5.0",
            "_model_name": "FloatProgressModel",
            "_view_count": null,
            "_view_module": "@jupyter-widgets/controls",
            "_view_module_version": "1.5.0",
            "_view_name": "ProgressView",
            "bar_style": "success",
            "description": "",
            "description_tooltip": null,
            "layout": "IPY_MODEL_009bdfea24cc46f5b00895bfcf2304c1",
            "max": 1002,
            "min": 0,
            "orientation": "horizontal",
            "style": "IPY_MODEL_ac3dddc7f38b4a4f84632317958f1d4d",
            "value": 1002
          }
        },
        "6f92a77ab52e4eeaa096be89dca8c881": {
          "model_module": "@jupyter-widgets/controls",
          "model_module_version": "1.5.0",
          "model_name": "HTMLModel",
          "state": {
            "_dom_classes": [],
            "_model_module": "@jupyter-widgets/controls",
            "_model_module_version": "1.5.0",
            "_model_name": "HTMLModel",
            "_view_count": null,
            "_view_module": "@jupyter-widgets/controls",
            "_view_module_version": "1.5.0",
            "_view_name": "HTMLView",
            "description": "",
            "description_tooltip": null,
            "layout": "IPY_MODEL_35d6821d4a7b4eaea6e3b0e5ec4ae2da",
            "placeholder": "​",
            "style": "IPY_MODEL_290e50f1ea3b44b8aca8931676fc33a8",
            "value": " 2/2 [00:04&lt;00:00,  1.97s/it]"
          }
        },
        "7045789a77024561bd4a8d4cc9e33655": {
          "model_module": "@jupyter-widgets/base",
          "model_module_version": "1.2.0",
          "model_name": "LayoutModel",
          "state": {
            "_model_module": "@jupyter-widgets/base",
            "_model_module_version": "1.2.0",
            "_model_name": "LayoutModel",
            "_view_count": null,
            "_view_module": "@jupyter-widgets/base",
            "_view_module_version": "1.2.0",
            "_view_name": "LayoutView",
            "align_content": null,
            "align_items": null,
            "align_self": null,
            "border": null,
            "bottom": null,
            "display": null,
            "flex": null,
            "flex_flow": null,
            "grid_area": null,
            "grid_auto_columns": null,
            "grid_auto_flow": null,
            "grid_auto_rows": null,
            "grid_column": null,
            "grid_gap": null,
            "grid_row": null,
            "grid_template_areas": null,
            "grid_template_columns": null,
            "grid_template_rows": null,
            "height": null,
            "justify_content": null,
            "justify_items": null,
            "left": null,
            "margin": null,
            "max_height": null,
            "max_width": null,
            "min_height": null,
            "min_width": null,
            "object_fit": null,
            "object_position": null,
            "order": null,
            "overflow": null,
            "overflow_x": null,
            "overflow_y": null,
            "padding": null,
            "right": null,
            "top": null,
            "visibility": null,
            "width": null
          }
        },
        "759759284827445dbe67e6c1a63f72d1": {
          "model_module": "@jupyter-widgets/base",
          "model_module_version": "1.2.0",
          "model_name": "LayoutModel",
          "state": {
            "_model_module": "@jupyter-widgets/base",
            "_model_module_version": "1.2.0",
            "_model_name": "LayoutModel",
            "_view_count": null,
            "_view_module": "@jupyter-widgets/base",
            "_view_module_version": "1.2.0",
            "_view_name": "LayoutView",
            "align_content": null,
            "align_items": null,
            "align_self": null,
            "border": null,
            "bottom": null,
            "display": null,
            "flex": null,
            "flex_flow": null,
            "grid_area": null,
            "grid_auto_columns": null,
            "grid_auto_flow": null,
            "grid_auto_rows": null,
            "grid_column": null,
            "grid_gap": null,
            "grid_row": null,
            "grid_template_areas": null,
            "grid_template_columns": null,
            "grid_template_rows": null,
            "height": null,
            "justify_content": null,
            "justify_items": null,
            "left": null,
            "margin": null,
            "max_height": null,
            "max_width": null,
            "min_height": null,
            "min_width": null,
            "object_fit": null,
            "object_position": null,
            "order": null,
            "overflow": null,
            "overflow_x": null,
            "overflow_y": null,
            "padding": null,
            "right": null,
            "top": null,
            "visibility": null,
            "width": null
          }
        },
        "81807b0e2ceb4bda93319eb611cb0cde": {
          "model_module": "@jupyter-widgets/base",
          "model_module_version": "1.2.0",
          "model_name": "LayoutModel",
          "state": {
            "_model_module": "@jupyter-widgets/base",
            "_model_module_version": "1.2.0",
            "_model_name": "LayoutModel",
            "_view_count": null,
            "_view_module": "@jupyter-widgets/base",
            "_view_module_version": "1.2.0",
            "_view_name": "LayoutView",
            "align_content": null,
            "align_items": null,
            "align_self": null,
            "border": null,
            "bottom": null,
            "display": null,
            "flex": null,
            "flex_flow": null,
            "grid_area": null,
            "grid_auto_columns": null,
            "grid_auto_flow": null,
            "grid_auto_rows": null,
            "grid_column": null,
            "grid_gap": null,
            "grid_row": null,
            "grid_template_areas": null,
            "grid_template_columns": null,
            "grid_template_rows": null,
            "height": null,
            "justify_content": null,
            "justify_items": null,
            "left": null,
            "margin": null,
            "max_height": null,
            "max_width": null,
            "min_height": null,
            "min_width": null,
            "object_fit": null,
            "object_position": null,
            "order": null,
            "overflow": null,
            "overflow_x": null,
            "overflow_y": null,
            "padding": null,
            "right": null,
            "top": null,
            "visibility": null,
            "width": null
          }
        },
        "8c23ca7332fe4055bf130fc054cb5a4e": {
          "model_module": "@jupyter-widgets/controls",
          "model_module_version": "1.5.0",
          "model_name": "ProgressStyleModel",
          "state": {
            "_model_module": "@jupyter-widgets/controls",
            "_model_module_version": "1.5.0",
            "_model_name": "ProgressStyleModel",
            "_view_count": null,
            "_view_module": "@jupyter-widgets/base",
            "_view_module_version": "1.2.0",
            "_view_name": "StyleView",
            "bar_color": null,
            "description_width": ""
          }
        },
        "a02a14db41ef4aed83ca11f0fafa3092": {
          "model_module": "@jupyter-widgets/controls",
          "model_module_version": "1.5.0",
          "model_name": "DescriptionStyleModel",
          "state": {
            "_model_module": "@jupyter-widgets/controls",
            "_model_module_version": "1.5.0",
            "_model_name": "DescriptionStyleModel",
            "_view_count": null,
            "_view_module": "@jupyter-widgets/base",
            "_view_module_version": "1.2.0",
            "_view_name": "StyleView",
            "description_width": ""
          }
        },
        "ac3dddc7f38b4a4f84632317958f1d4d": {
          "model_module": "@jupyter-widgets/controls",
          "model_module_version": "1.5.0",
          "model_name": "ProgressStyleModel",
          "state": {
            "_model_module": "@jupyter-widgets/controls",
            "_model_module_version": "1.5.0",
            "_model_name": "ProgressStyleModel",
            "_view_count": null,
            "_view_module": "@jupyter-widgets/base",
            "_view_module_version": "1.2.0",
            "_view_name": "StyleView",
            "bar_color": null,
            "description_width": ""
          }
        },
        "c0d1ee53451c429eaffebc633f177551": {
          "model_module": "@jupyter-widgets/base",
          "model_module_version": "1.2.0",
          "model_name": "LayoutModel",
          "state": {
            "_model_module": "@jupyter-widgets/base",
            "_model_module_version": "1.2.0",
            "_model_name": "LayoutModel",
            "_view_count": null,
            "_view_module": "@jupyter-widgets/base",
            "_view_module_version": "1.2.0",
            "_view_name": "LayoutView",
            "align_content": null,
            "align_items": null,
            "align_self": null,
            "border": null,
            "bottom": null,
            "display": null,
            "flex": null,
            "flex_flow": null,
            "grid_area": null,
            "grid_auto_columns": null,
            "grid_auto_flow": null,
            "grid_auto_rows": null,
            "grid_column": null,
            "grid_gap": null,
            "grid_row": null,
            "grid_template_areas": null,
            "grid_template_columns": null,
            "grid_template_rows": null,
            "height": null,
            "justify_content": null,
            "justify_items": null,
            "left": null,
            "margin": null,
            "max_height": null,
            "max_width": null,
            "min_height": null,
            "min_width": null,
            "object_fit": null,
            "object_position": null,
            "order": null,
            "overflow": null,
            "overflow_x": null,
            "overflow_y": null,
            "padding": null,
            "right": null,
            "top": null,
            "visibility": null,
            "width": null
          }
        },
        "d9649944065d4a9fb2cb48b5192381c5": {
          "model_module": "@jupyter-widgets/controls",
          "model_module_version": "1.5.0",
          "model_name": "FloatProgressModel",
          "state": {
            "_dom_classes": [],
            "_model_module": "@jupyter-widgets/controls",
            "_model_module_version": "1.5.0",
            "_model_name": "FloatProgressModel",
            "_view_count": null,
            "_view_module": "@jupyter-widgets/controls",
            "_view_module_version": "1.5.0",
            "_view_name": "ProgressView",
            "bar_style": "success",
            "description": "",
            "description_tooltip": null,
            "layout": "IPY_MODEL_e98aa6915c174774afa007f20c9c358b",
            "max": 2,
            "min": 0,
            "orientation": "horizontal",
            "style": "IPY_MODEL_8c23ca7332fe4055bf130fc054cb5a4e",
            "value": 2
          }
        },
        "dadc48b008754f9ca9750992b1acaee4": {
          "model_module": "@jupyter-widgets/controls",
          "model_module_version": "1.5.0",
          "model_name": "HBoxModel",
          "state": {
            "_dom_classes": [],
            "_model_module": "@jupyter-widgets/controls",
            "_model_module_version": "1.5.0",
            "_model_name": "HBoxModel",
            "_view_count": null,
            "_view_module": "@jupyter-widgets/controls",
            "_view_module_version": "1.5.0",
            "_view_name": "HBoxView",
            "box_style": "",
            "children": [
              "IPY_MODEL_3fc163ac6d3840d38845586990010b08",
              "IPY_MODEL_d9649944065d4a9fb2cb48b5192381c5",
              "IPY_MODEL_6f92a77ab52e4eeaa096be89dca8c881"
            ],
            "layout": "IPY_MODEL_4360c81bc4d84872ab3844271b33de2f"
          }
        },
        "e98aa6915c174774afa007f20c9c358b": {
          "model_module": "@jupyter-widgets/base",
          "model_module_version": "1.2.0",
          "model_name": "LayoutModel",
          "state": {
            "_model_module": "@jupyter-widgets/base",
            "_model_module_version": "1.2.0",
            "_model_name": "LayoutModel",
            "_view_count": null,
            "_view_module": "@jupyter-widgets/base",
            "_view_module_version": "1.2.0",
            "_view_name": "LayoutView",
            "align_content": null,
            "align_items": null,
            "align_self": null,
            "border": null,
            "bottom": null,
            "display": null,
            "flex": null,
            "flex_flow": null,
            "grid_area": null,
            "grid_auto_columns": null,
            "grid_auto_flow": null,
            "grid_auto_rows": null,
            "grid_column": null,
            "grid_gap": null,
            "grid_row": null,
            "grid_template_areas": null,
            "grid_template_columns": null,
            "grid_template_rows": null,
            "height": null,
            "justify_content": null,
            "justify_items": null,
            "left": null,
            "margin": null,
            "max_height": null,
            "max_width": null,
            "min_height": null,
            "min_width": null,
            "object_fit": null,
            "object_position": null,
            "order": null,
            "overflow": null,
            "overflow_x": null,
            "overflow_y": null,
            "padding": null,
            "right": null,
            "top": null,
            "visibility": null,
            "width": null
          }
        },
        "eaf07913566b4f9d8732b776395bd271": {
          "model_module": "@jupyter-widgets/controls",
          "model_module_version": "1.5.0",
          "model_name": "DescriptionStyleModel",
          "state": {
            "_model_module": "@jupyter-widgets/controls",
            "_model_module_version": "1.5.0",
            "_model_name": "DescriptionStyleModel",
            "_view_count": null,
            "_view_module": "@jupyter-widgets/base",
            "_view_module_version": "1.2.0",
            "_view_name": "StyleView",
            "description_width": ""
          }
        }
      }
    }
  },
  "nbformat": 4,
  "nbformat_minor": 5
}
